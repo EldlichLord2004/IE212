{
 "cells": [
  {
   "cell_type": "code",
   "execution_count": 1,
   "id": "1414be41",
   "metadata": {},
   "outputs": [],
   "source": [
    "import json\n",
    "import pandas as pd\n",
    "import findspark\n",
    "findspark.init()\n",
    "\n",
    "from pyspark.sql import SparkSession\n",
    "from pyspark.sql.functions import col, split, explode\n",
    "\n",
    "\n",
    "spark = SparkSession.builder.appName(\"ProcessingDataset\")\\\n",
    "    .config(\"spark.kryoserializer.buffer.max\", \"512m\") \\\n",
    "    .getOrCreate()\n",
    "spark.conf.set('spark.sql.caseSensitive', True)"
   ]
  },
  {
   "cell_type": "code",
   "execution_count": 2,
   "id": "d57dee29",
   "metadata": {},
   "outputs": [],
   "source": [
    "user_reviews= spark.read.parquet(\"Dataset/user_reviews.parquet\")"
   ]
  },
  {
   "cell_type": "code",
   "execution_count": 3,
   "id": "75ca11e2",
   "metadata": {},
   "outputs": [
    {
     "name": "stdout",
     "output_type": "stream",
     "text": [
      "+------------+--------------------------------------------------------+------+------------+----------------------------+----------+-----------+--------------------------------------------------------------------------------------------------------------------------------------------------------------------------------------------------------------------------------------------------------------------------------------------------------------------------------------------------------------------------------------------------------------------------------------------------------------------------------------------------------------------------------------------------------------------------------------------------------------------------------------------------------------------------------------------------------------------------------------------------------------------------------------------------------+-----------+------------+-----------------+-------------------+\n",
      "|review_id   |title                                                   |rating|rating_label|user_id                     |asin      |parent_asin|text                                                                                                                                                                                                                                                                                                                                                                                                                                                                                                                                                                                                                                                                                                                                                                                                    |text_length|helpful_vote|verified_purchase|datetime           |\n",
      "+------------+--------------------------------------------------------+------+------------+----------------------------+----------+-----------+--------------------------------------------------------------------------------------------------------------------------------------------------------------------------------------------------------------------------------------------------------------------------------------------------------------------------------------------------------------------------------------------------------------------------------------------------------------------------------------------------------------------------------------------------------------------------------------------------------------------------------------------------------------------------------------------------------------------------------------------------------------------------------------------------------+-----------+------------+-----------------+-------------------+\n",
      "|103079215104|Great game for those wanting historical info of Templars|5.0   |positive    |AHP4ABT4AOUOKHKXCUT3JCFU623A|B004H0J5QY|B004HD55V0 |Great game for those wanting to play historical period,no trolls ,dragons or wizzards,just plain medevil combat,with tasks for two Templar knights to perform to find the Holly-Grail ,I will not give out the plot since it has twists that are unexpected,but well worth the time to play ,will gain insight in to the Templars' history  ,The game is very easy to install since it is windows based and has great graphics,plus un-like other single shooter games you can switch between the two templars you want to play,Shame there is not a Templar II to countine the story line,but you will find many twists and turns in this game,unexpected,the story-line is well written,like an inter-active book Warning its hard to stop playing once you start the ,game time about 9 hours of play|776        |0           |true             |2014-04-21 00:58:24|\n",
      "|103079215105|Great value,for the amount of game that you get         |5.0   |positive    |AHP4ABT4AOUOKHKXCUT3JCFU623A|B00AR5BNYU|B00AR5BNYU |Great graphics,no problems with running the game,installs very easy,and can be up and playing in no time,You build yourself up in status,and gain favor of the king of your clan,thur warfare and favors which gives you more villages,giving you more wealth to buy better weapons and armor,and stepping up to marry,giving you a title and a path to the throne,so you have alot to keep you interested in going forward after each chapter is completed,the goal of the game is to become king,                                                                                                                                                                                                                                                                                                     |483        |1           |false            |2013-06-01 08:08:41|\n",
      "|103079215106|Do not waste the money or effort                        |1.0   |negative    |AHP4ABT4AOUOKHKXCUT3JCFU623A|B003MQMPD4|B003NE6BQW |I wish I could give a review of this game,nothing but muti= crashes,tried everything,updates,computer hardware checks,this is the only game that I have  this problem on my system,Do not waste the money or effort,there is no fix for the problem,do not fall for all you have to do is run an update,                                                                                                                                                                                                                                                                                                                                                                                                                                                                                                |296        |4           |true             |2012-01-19 09:11:03|\n",
      "|103079215107|If looking for a good WWI game this is it               |4.0   |positive    |AHP4ABT4AOUOKHKXCUT3JCFU623A|B003L77ZHK|B003L77ZHK |I have been looking for a good WWI game for a long time,this game is one of the best that I have found,very good 3D graphics,It is on the same game platform as CDV Blitzkrieg WWII games,Only draw back, slow controls,You have so many units in one game to control,at times its like herding cats,but in all its a good game to spend a day playing,for $9.99.as for the crash problems others had stated,I have had no problems                                                                                                                                                                                                                                                                                                                                                                     |419        |3           |true             |2012-01-14 07:48:46|\n",
      "|103079215108|Just what I needed                                      |5.0   |positive    |AEHINTI4PJFF3EQ7OL3Q2C3NYP7Q|B07TL5TKG9|B07WRDYD2N |Fit perfectly with my color theme of my Mac, and is very responsive.                                                                                                                                                                                                                                                                                                                                                                                                                                                                                                                                                                                                                                                                                                                                    |68         |0           |true             |2021-02-01 02:31:31|\n",
      "+------------+--------------------------------------------------------+------+------------+----------------------------+----------+-----------+--------------------------------------------------------------------------------------------------------------------------------------------------------------------------------------------------------------------------------------------------------------------------------------------------------------------------------------------------------------------------------------------------------------------------------------------------------------------------------------------------------------------------------------------------------------------------------------------------------------------------------------------------------------------------------------------------------------------------------------------------------------------------------------------------------+-----------+------------+-----------------+-------------------+\n",
      "only showing top 5 rows\n",
      "\n"
     ]
    }
   ],
   "source": [
    "user_reviews.show(5, False)"
   ]
  },
  {
   "cell_type": "code",
   "execution_count": 4,
   "id": "724e0488",
   "metadata": {},
   "outputs": [],
   "source": [
    "user_reviews_demo = user_reviews.limit(50000)"
   ]
  },
  {
   "cell_type": "code",
   "execution_count": 5,
   "id": "0bd97388",
   "metadata": {},
   "outputs": [
    {
     "name": "stdout",
     "output_type": "stream",
     "text": [
      "+------------+--------------------------------------------------------+------+------------+----------------------------+----------+-----------+--------------------------------------------------------------------------------------------------------------------------------------------------------------------------------------------------------------------------------------------------------------------------------------------------------------------------------------------------------------------------------------------------------------------------------------------------------------------------------------------------------------------------------------------------------------------------------------------------------------------------------------------------------------------------------------------------------------------------------------------------------------------------------------------------------+-----------+------------+-----------------+-------------------+\n",
      "|review_id   |title                                                   |rating|rating_label|user_id                     |asin      |parent_asin|text                                                                                                                                                                                                                                                                                                                                                                                                                                                                                                                                                                                                                                                                                                                                                                                                    |text_length|helpful_vote|verified_purchase|datetime           |\n",
      "+------------+--------------------------------------------------------+------+------------+----------------------------+----------+-----------+--------------------------------------------------------------------------------------------------------------------------------------------------------------------------------------------------------------------------------------------------------------------------------------------------------------------------------------------------------------------------------------------------------------------------------------------------------------------------------------------------------------------------------------------------------------------------------------------------------------------------------------------------------------------------------------------------------------------------------------------------------------------------------------------------------+-----------+------------+-----------------+-------------------+\n",
      "|103079215104|Great game for those wanting historical info of Templars|5.0   |positive    |AHP4ABT4AOUOKHKXCUT3JCFU623A|B004H0J5QY|B004HD55V0 |Great game for those wanting to play historical period,no trolls ,dragons or wizzards,just plain medevil combat,with tasks for two Templar knights to perform to find the Holly-Grail ,I will not give out the plot since it has twists that are unexpected,but well worth the time to play ,will gain insight in to the Templars' history  ,The game is very easy to install since it is windows based and has great graphics,plus un-like other single shooter games you can switch between the two templars you want to play,Shame there is not a Templar II to countine the story line,but you will find many twists and turns in this game,unexpected,the story-line is well written,like an inter-active book Warning its hard to stop playing once you start the ,game time about 9 hours of play|776        |0           |true             |2014-04-21 00:58:24|\n",
      "|103079215105|Great value,for the amount of game that you get         |5.0   |positive    |AHP4ABT4AOUOKHKXCUT3JCFU623A|B00AR5BNYU|B00AR5BNYU |Great graphics,no problems with running the game,installs very easy,and can be up and playing in no time,You build yourself up in status,and gain favor of the king of your clan,thur warfare and favors which gives you more villages,giving you more wealth to buy better weapons and armor,and stepping up to marry,giving you a title and a path to the throne,so you have alot to keep you interested in going forward after each chapter is completed,the goal of the game is to become king,                                                                                                                                                                                                                                                                                                     |483        |1           |false            |2013-06-01 08:08:41|\n",
      "|103079215106|Do not waste the money or effort                        |1.0   |negative    |AHP4ABT4AOUOKHKXCUT3JCFU623A|B003MQMPD4|B003NE6BQW |I wish I could give a review of this game,nothing but muti= crashes,tried everything,updates,computer hardware checks,this is the only game that I have  this problem on my system,Do not waste the money or effort,there is no fix for the problem,do not fall for all you have to do is run an update,                                                                                                                                                                                                                                                                                                                                                                                                                                                                                                |296        |4           |true             |2012-01-19 09:11:03|\n",
      "|103079215107|If looking for a good WWI game this is it               |4.0   |positive    |AHP4ABT4AOUOKHKXCUT3JCFU623A|B003L77ZHK|B003L77ZHK |I have been looking for a good WWI game for a long time,this game is one of the best that I have found,very good 3D graphics,It is on the same game platform as CDV Blitzkrieg WWII games,Only draw back, slow controls,You have so many units in one game to control,at times its like herding cats,but in all its a good game to spend a day playing,for $9.99.as for the crash problems others had stated,I have had no problems                                                                                                                                                                                                                                                                                                                                                                     |419        |3           |true             |2012-01-14 07:48:46|\n",
      "|103079215108|Just what I needed                                      |5.0   |positive    |AEHINTI4PJFF3EQ7OL3Q2C3NYP7Q|B07TL5TKG9|B07WRDYD2N |Fit perfectly with my color theme of my Mac, and is very responsive.                                                                                                                                                                                                                                                                                                                                                                                                                                                                                                                                                                                                                                                                                                                                    |68         |0           |true             |2021-02-01 02:31:31|\n",
      "+------------+--------------------------------------------------------+------+------------+----------------------------+----------+-----------+--------------------------------------------------------------------------------------------------------------------------------------------------------------------------------------------------------------------------------------------------------------------------------------------------------------------------------------------------------------------------------------------------------------------------------------------------------------------------------------------------------------------------------------------------------------------------------------------------------------------------------------------------------------------------------------------------------------------------------------------------------------------------------------------------------+-----------+------------+-----------------+-------------------+\n",
      "only showing top 5 rows\n",
      "\n"
     ]
    }
   ],
   "source": [
    "user_reviews_demo.show(5, False)"
   ]
  },
  {
   "cell_type": "code",
   "execution_count": 6,
   "id": "d90914fd",
   "metadata": {},
   "outputs": [
    {
     "name": "stdout",
     "output_type": "stream",
     "text": [
      "+-----------+--------------------------------------------------------------------------------------------------------------------------------------------------------------------------------------------------------+--------------+-------------+-------------------------+-------------------------------------------------------------------+-----+-----------+\n",
      "|parent_asin|title                                                                                                                                                                                                   |average_rating|rating_number|main_category            |categories                                                         |price|store      |\n",
      "+-----------+--------------------------------------------------------------------------------------------------------------------------------------------------------------------------------------------------------+--------------+-------------+-------------------------+-------------------------------------------------------------------+-----+-----------+\n",
      "|B08PNXK9RG |MASiKEN Head Strap for VR Oculus Quest 2, Accessories Head Strap fit Oculus 2 Official Carrying Case, Adjustable Headband Relieve Face Squeeze, Enhanced Support and Comfortable Touch (White, K3 Small)|4.4           |154          |Cell Phones & Accessories|[Video Games, PC, Virtual Reality, Headsets]                       |NULL |MASiKEN    |\n",
      "|B0B7P1DDFJ |Wireless Mouse, 2.4G Wireless Ergonomic Gaming Optical Mouse with 3 Adjustable DPI 800/1200 /1600, Portable Slim Silent USB Cordless Computer Mice for Desktop, Notebook, MacBook, Chromebook, PC(Pink) |1.0           |1            |All Electronics          |[Video Games, PC, Accessories, Gaming Mice]                        |NULL |Gabongcui  |\n",
      "|B011AUYCNY |LEGO Jurassic World for Xbox One                                                                                                                                                                        |4.7           |407          |Video Games              |[Video Games, Xbox One, Games]                                     |20.95|WARNER BROS|\n",
      "|B00006ANZ2 |Worms Triple Pack - PC                                                                                                                                                                                  |3.1           |15           |Video Games              |[Video Games, PC, Games]                                           |50.0 |Ubisoft    |\n",
      "|B01J4K4OBM |Fire Emblem Fates: Conquest - Nintendo 3DS by Nintendo                                                                                                                                                  |5.0           |7            |Video Games              |[Video Games, Legacy Systems, Nintendo Systems, Nintendo 3DS & 2DS]|62.99|Nintendo   |\n",
      "+-----------+--------------------------------------------------------------------------------------------------------------------------------------------------------------------------------------------------------+--------------+-------------+-------------------------+-------------------------------------------------------------------+-----+-----------+\n",
      "only showing top 5 rows\n",
      "\n"
     ]
    }
   ],
   "source": [
    "metadata=spark.read.parquet(\"Dataset/metadata.parquet\")\n",
    "metadata.show(5, False)"
   ]
  },
  {
   "cell_type": "code",
   "execution_count": 7,
   "id": "a2a156d9",
   "metadata": {},
   "outputs": [],
   "source": [
    "full_data = user_reviews_demo.join(metadata, user_reviews_demo.parent_asin == metadata.parent_asin, \"inner\")"
   ]
  },
  {
   "cell_type": "code",
   "execution_count": 8,
   "id": "a57dfa80",
   "metadata": {},
   "outputs": [
    {
     "name": "stdout",
     "output_type": "stream",
     "text": [
      "+------------+----------------------------------------+--------------------------------------------------------------------------------------------------------------------------------------------------------------------------------------------------------+------+--------------+-------------+----------+-----------+----------------------------+------------+---------------------------------------------------------------------+\n",
      "|review_id   |title                                   |product_title                                                                                                                                                                                           |rating|average_rating|rating_number|asin      |parent_asin|user_id                     |helpful_vote|categories                                                           |\n",
      "+------------+----------------------------------------+--------------------------------------------------------------------------------------------------------------------------------------------------------------------------------------------------------+------+--------------+-------------+----------+-----------+----------------------------+------------+---------------------------------------------------------------------+\n",
      "|103079220860|Great head-strap replacement for Quest 2|MASiKEN Head Strap for VR Oculus Quest 2, Accessories Head Strap fit Oculus 2 Official Carrying Case, Adjustable Headband Relieve Face Squeeze, Enhanced Support and Comfortable Touch (White, K3 Small)|3.0   |4.4           |154          |B08PNXK9RG|B08PNXK9RG |AEIE4ZK7L35ZZK37AQA6O6VXGBAA|0           |[Video Games, PC, Virtual Reality, Headsets]                         |\n",
      "|103079261921|Does what it says                       |Dust Filter Cover for Xbox Series X with Rubber Dust Plugs, Top Case Vent Dust Proof Filter Cover, Silicone Dust Plugs and Thump Grip Caps for Xbox Series X - 2 Pack Sets                              |5.0   |4.3           |1058         |B09L5M4XCQ|B09L5M4XCQ |AFW2LYXYGWF36MEJ7HSKDUDTKMRA|0           |[Video Games, Xbox Series X & S, Accessories, Cases & Storage, Cases]|\n",
      "|103079250871|Xbox accessories                        |Dust Filter Cover for Xbox Series X with Rubber Dust Plugs, Top Case Vent Dust Proof Filter Cover, Silicone Dust Plugs and Thump Grip Caps for Xbox Series X - 2 Pack Sets                              |4.0   |4.3           |1058         |B09L5M4XCQ|B09L5M4XCQ |AGR6I23F44M7STRHJFKQGC3GD47A|0           |[Video Games, Xbox Series X & S, Accessories, Cases & Storage, Cases]|\n",
      "|103079231825|Three Stars                             |ドラゴンクエストヒーローズII　双子の王と予言の終わり【初回購入特典】「ドラゴンクエストI」勇者コスチューム +「元気玉」+「ドラゴンクエストビルダーズ」で使える「ホミロンの像のレシピ」同梱                |3.0   |4.0           |485          |B01C2GW200|B01C2GW200 |AFGKU2DVCHDHSRI2ANE5Q3GCTAAA|0           |[Video Games, PlayStation 4, Games]                                  |\n",
      "|103079253236|Buy this Game!                          |We Wish You A Merry Christmas - Nintendo Wii                                                                                                                                                            |5.0   |4.4           |58           |B002PK7HXQ|B002PK7HXQ |AHW5XAMC2J2J47GN6XDSXIRXPAZA|4           |[Video Games, Legacy Systems, Nintendo Systems, Wii, Games]          |\n",
      "+------------+----------------------------------------+--------------------------------------------------------------------------------------------------------------------------------------------------------------------------------------------------------+------+--------------+-------------+----------+-----------+----------------------------+------------+---------------------------------------------------------------------+\n",
      "only showing top 5 rows\n",
      "\n"
     ]
    }
   ],
   "source": [
    "full_data_filter = full_data.select(\n",
    "\t\"review_id\",\n",
    "\tuser_reviews_demo[\"title\"].alias(\"title\"),\n",
    "\tmetadata[\"title\"].alias(\"product_title\"),\n",
    "\t\"rating\",\n",
    "\t\"average_rating\",\n",
    "\t\"rating_number\",\n",
    "\tuser_reviews_demo[\"asin\"].alias(\"asin\"),\n",
    "\tmetadata[\"parent_asin\"].alias(\"parent_asin\"),\n",
    "\t\"user_id\",\n",
    "\t\"helpful_vote\",\n",
    "\t\"categories\"\n",
    ")\n",
    "full_data_filter.show(5, False)"
   ]
  },
  {
   "cell_type": "code",
   "execution_count": 9,
   "id": "2937482a",
   "metadata": {},
   "outputs": [
    {
     "name": "stdout",
     "output_type": "stream",
     "text": [
      "root\n",
      " |-- review_id: long (nullable = true)\n",
      " |-- title: string (nullable = true)\n",
      " |-- product_title: string (nullable = true)\n",
      " |-- rating: double (nullable = true)\n",
      " |-- average_rating: double (nullable = true)\n",
      " |-- rating_number: long (nullable = true)\n",
      " |-- asin: string (nullable = true)\n",
      " |-- parent_asin: string (nullable = true)\n",
      " |-- user_id: string (nullable = true)\n",
      " |-- helpful_vote: long (nullable = true)\n",
      " |-- categories: array (nullable = true)\n",
      " |    |-- element: string (containsNull = true)\n",
      "\n"
     ]
    }
   ],
   "source": [
    "full_data_filter.printSchema()"
   ]
  },
  {
   "cell_type": "markdown",
   "id": "e6a21c24",
   "metadata": {},
   "source": [
    "## Simple recommendation model\n"
   ]
  },
  {
   "cell_type": "code",
   "execution_count": 10,
   "id": "9b0384f5",
   "metadata": {},
   "outputs": [
    {
     "name": "stdout",
     "output_type": "stream",
     "text": [
      "RMSE = 1.2111761710415698\n"
     ]
    }
   ],
   "source": [
    "from pyspark.sql import functions as F\n",
    "from pyspark.ml.feature import Tokenizer, StopWordsRemover, Word2Vec, VectorAssembler, StringIndexer\n",
    "from pyspark.ml.regression import GBTRegressor\n",
    "from pyspark.ml.evaluation import RegressionEvaluator\n",
    "from pyspark.ml.tuning import ParamGridBuilder, CrossValidator\n",
    "from pyspark.ml import Pipeline\n",
    "\n",
    "# 1. Tiền xử lý dữ liệu\n",
    "cleaned_data = full_data_filter.filter(\n",
    "    (col(\"rating\").isNotNull()) &\n",
    "    (col(\"user_id\").isNotNull()) &\n",
    "    (col(\"asin\").isNotNull())\n",
    ")\n",
    "\n",
    "# 2. Xử lý văn bản\n",
    "tokenizer = Tokenizer(inputCol=\"title\", outputCol=\"words\")\n",
    "remover = StopWordsRemover(inputCol=\"words\", outputCol=\"filtered_words\")\n",
    "word2vec = Word2Vec(vectorSize=100, minCount=5, inputCol=\"filtered_words\", outputCol=\"title_vector\")\n",
    "\n",
    "# 3. Mã hóa user_id và asin\n",
    "user_indexer = StringIndexer(inputCol=\"user_id\", outputCol=\"user_index\")\n",
    "item_indexer = StringIndexer(inputCol=\"asin\", outputCol=\"item_index\")\n",
    "\n",
    "# 4. Kết hợp các đặc trưng\n",
    "assembler = VectorAssembler(\n",
    "    inputCols=[\"title_vector\", \"rating_number\", \"helpful_vote\"],\n",
    "    outputCol=\"features\"\n",
    ")\n",
    "\n",
    "# 5. Chuẩn bị dữ liệu\n",
    "pipeline = Pipeline(stages=[\n",
    "    tokenizer,\n",
    "    remover,\n",
    "    word2vec,\n",
    "    user_indexer,\n",
    "    item_indexer,\n",
    "    assembler\n",
    "])\n",
    "processed_data = pipeline.fit(cleaned_data).transform(cleaned_data)\n",
    "\n",
    "# 6. Chia tập train/test\n",
    "(train, test) = processed_data.randomSplit([0.8, 0.2])\n",
    "\n",
    "# 7. Xây dựng mô hình\n",
    "gbt = GBTRegressor(featuresCol=\"features\", labelCol=\"rating\", maxIter=10)\n",
    "model = gbt.fit(train)\n",
    "\n",
    "# 8. Dự đoán và đánh giá\n",
    "predictions = model.transform(test)\n",
    "evaluator = RegressionEvaluator(labelCol=\"rating\", predictionCol=\"prediction\", metricName=\"rmse\")\n",
    "print(f\"RMSE = {evaluator.evaluate(predictions)}\")"
   ]
  },
  {
   "cell_type": "code",
   "execution_count": 11,
   "id": "d397dba3",
   "metadata": {},
   "outputs": [
    {
     "name": "stdout",
     "output_type": "stream",
     "text": [
      "+--------------------+----------+------+------------------+\n",
      "|             user_id|      asin|rating|        prediction|\n",
      "+--------------------+----------+------+------------------+\n",
      "|AFZIKYRBTX3ETK3Y2...|B000TP2V3A|   5.0| 5.003063318598128|\n",
      "|AHR7UVTO3OYYC4P4I...|B005HRZ3N0|   4.0|3.0628716956246946|\n",
      "|AHJJUHFEN3OBRTTWY...|B00C0Z6KCA|   1.0| 3.166722358340764|\n",
      "|AGD7HDPMJPUDRHKUJ...|B09PVCVQDP|   1.0|1.0494720107970563|\n",
      "|AH7N3Q4O4P2QT3BCM...|B000HZFCT2|   5.0| 5.003063318598128|\n",
      "|AEEB2COGEIWCUR2F7...|B00KSQHX1K|   5.0| 5.003063318598128|\n",
      "|AH45BPEN63SXGJJVK...|B00HZWEB74|   5.0| 4.488732758582935|\n",
      "|AHBP7E3NBVL34EWV3...|B07FFN4H9G|   5.0| 4.731403270558192|\n",
      "|AGPKGKBWZTBCTUDHM...|B07WW24S58|   5.0| 4.507616603582671|\n",
      "|AFM7J3OCFMHI4V23S...|B07RCXNW3K|   1.0|3.6515832793621192|\n",
      "+--------------------+----------+------+------------------+\n",
      "only showing top 10 rows\n",
      "\n"
     ]
    }
   ],
   "source": [
    "# Hiển thị 10 dòng đầu tiên của DataFrame predictions\n",
    "predictions.select(\"user_id\", \"asin\", \"rating\", \"prediction\").show(10)"
   ]
  },
  {
   "cell_type": "markdown",
   "id": "54f109e8",
   "metadata": {},
   "source": [
    "## Another model\n"
   ]
  },
  {
   "cell_type": "code",
   "execution_count": 12,
   "id": "4936f6d2",
   "metadata": {},
   "outputs": [],
   "source": [
    "from pyspark.sql.window import Window\n",
    "\n",
    "window_spec = Window.partitionBy(\"asin\")\n",
    "data_with_label = full_data_filter.withColumn(\n",
    "    \"label\", F.avg(\"rating\").over(window_spec)\n",
    ")"
   ]
  },
  {
   "cell_type": "code",
   "execution_count": 13,
   "id": "b33e0413",
   "metadata": {},
   "outputs": [],
   "source": [
    "cleaned_data = data_with_label.dropna(subset=[\"asin\", \"title\", \"label\",\"product_title\",\"parent_asin\"])"
   ]
  },
  {
   "cell_type": "code",
   "execution_count": 14,
   "id": "96be6b34",
   "metadata": {},
   "outputs": [],
   "source": [
    "from pyspark.ml.feature import Tokenizer, StopWordsRemover\n",
    "\n",
    "tokenizer = Tokenizer(inputCol=\"title\", outputCol=\"words\")\n",
    "words_df = tokenizer.transform(cleaned_data)\n",
    "\n",
    "remover = StopWordsRemover(inputCol=\"words\", outputCol=\"filtered_words\")\n",
    "filtered_df = remover.transform(words_df)"
   ]
  },
  {
   "cell_type": "code",
   "execution_count": 15,
   "id": "3f577e4e",
   "metadata": {},
   "outputs": [],
   "source": [
    "from pyspark.ml.feature import Word2Vec\n",
    "\n",
    "word2vec = Word2Vec(vectorSize=100, inputCol=\"filtered_words\", outputCol=\"title_vector\")\n",
    "w2v_model = word2vec.fit(filtered_df)\n",
    "title_vectors_df = w2v_model.transform(filtered_df)"
   ]
  },
  {
   "cell_type": "code",
   "execution_count": 16,
   "id": "345463c8",
   "metadata": {},
   "outputs": [],
   "source": [
    "from pyspark.ml.feature import StringIndexer\n",
    "\n",
    "asin_indexer = StringIndexer(inputCol=\"asin\", outputCol=\"asin_index\", handleInvalid=\"keep\")\n",
    "parent_asin_indexer = StringIndexer(inputCol=\"parent_asin\", outputCol=\"parent_asin_index\", handleInvalid=\"keep\")\n",
    "indexed_df = asin_indexer.fit(title_vectors_df).transform(title_vectors_df)\n",
    "indexed_df = parent_asin_indexer.fit(indexed_df).transform(indexed_df)"
   ]
  },
  {
   "cell_type": "code",
   "execution_count": 17,
   "id": "945a3cb8",
   "metadata": {},
   "outputs": [],
   "source": [
    "from pyspark.ml.feature import VectorAssembler\n",
    "\n",
    "assembler = VectorAssembler(\n",
    "    inputCols=[\"asin_index\", \"title_vector\",\"parent_asin_index\"],\n",
    "    outputCol=\"features\"\n",
    ")\n",
    "final_df = assembler.transform(indexed_df).select(\"features\", \"label\", \"asin\",\"parent_asin\")"
   ]
  },
  {
   "cell_type": "code",
   "execution_count": 18,
   "id": "9ca81d72",
   "metadata": {},
   "outputs": [],
   "source": [
    "train_df, test_df = final_df.randomSplit([0.8, 0.2], seed=42)"
   ]
  },
  {
   "cell_type": "code",
   "execution_count": 19,
   "id": "650f2d45",
   "metadata": {},
   "outputs": [],
   "source": [
    "# Re-assemble features to exclude asin_index (categorical with too many values)\n",
    "from sklearn.linear_model import SGDRegressor\n",
    "\n",
    "\n",
    "assembler = VectorAssembler(\n",
    "\tinputCols=[\"title_vector\"],\n",
    "\toutputCol=\"features\"\n",
    ")\n",
    "final_df_no_cat = assembler.transform(title_vectors_df).select(\"features\", \"label\", \"asin\",\"parent_asin\")\n",
    "\n",
    "# Split again for training/testing\n",
    "train_df_no_cat, test_df_no_cat = final_df_no_cat.randomSplit([0.8, 0.2], seed=42)\n",
    "\n",
    "# Convert Spark DataFrame to pandas DataFrame for sklearn\n",
    "train_pd = train_df_no_cat.select(\"features\", \"label\").toPandas()\n",
    "X_train = train_pd[\"features\"].apply(lambda v: v.toArray()).tolist()\n",
    "y_train = train_pd[\"label\"].values\n",
    "\n",
    "sgd = SGDRegressor(max_iter=10)\n",
    "model = sgd.fit(X_train, y_train)"
   ]
  },
  {
   "cell_type": "code",
   "execution_count": 20,
   "id": "4d875456",
   "metadata": {},
   "outputs": [
    {
     "name": "stdout",
     "output_type": "stream",
     "text": [
      "RMSE = 1.0057047165400845\n"
     ]
    }
   ],
   "source": [
    "# Convert Spark DataFrame to pandas DataFrame for sklearn prediction (use test_df_no_cat for correct feature size)\n",
    "test_pd = test_df_no_cat.select(\"features\", \"label\").toPandas()\n",
    "X_test = test_pd[\"features\"].apply(lambda v: v.toArray()).tolist()\n",
    "y_test = test_pd[\"label\"].values\n",
    "\n",
    "# Predict using the trained SGDRegressor\n",
    "y_pred = model.predict(X_test)\n",
    "\n",
    "# Evaluate RMSE using sklearn\n",
    "from sklearn.metrics import mean_squared_error\n",
    "import numpy as np\n",
    "\n",
    "rmse = np.sqrt(mean_squared_error(y_test, y_pred))\n",
    "print(f\"RMSE = {rmse}\")"
   ]
  },
  {
   "cell_type": "code",
   "execution_count": 21,
   "id": "960acd02",
   "metadata": {},
   "outputs": [
    {
     "name": "stdout",
     "output_type": "stream",
     "text": [
      "root\n",
      " |-- review_id: long (nullable = true)\n",
      " |-- title: string (nullable = true)\n",
      " |-- product_title: string (nullable = true)\n",
      " |-- rating: double (nullable = true)\n",
      " |-- average_rating: double (nullable = true)\n",
      " |-- rating_number: long (nullable = true)\n",
      " |-- asin: string (nullable = true)\n",
      " |-- parent_asin: string (nullable = true)\n",
      " |-- user_id: string (nullable = true)\n",
      " |-- helpful_vote: long (nullable = true)\n",
      " |-- categories: array (nullable = true)\n",
      " |    |-- element: string (containsNull = true)\n",
      " |-- words: array (nullable = true)\n",
      " |    |-- element: string (containsNull = true)\n",
      " |-- filtered_words: array (nullable = true)\n",
      " |    |-- element: string (containsNull = true)\n",
      " |-- title_vector: vector (nullable = true)\n",
      " |-- user_index: double (nullable = false)\n",
      " |-- item_index: double (nullable = false)\n",
      " |-- features: vector (nullable = true)\n",
      " |-- prediction: double (nullable = false)\n",
      "\n"
     ]
    }
   ],
   "source": [
    "predictions.printSchema()"
   ]
  },
  {
   "cell_type": "code",
   "execution_count": 22,
   "id": "2e32e9c6",
   "metadata": {},
   "outputs": [
    {
     "name": "stdout",
     "output_type": "stream",
     "text": [
      "+----------+--------------------+------------------+--------------+-----------+\n",
      "|      asin|       product_title|        prediction|average_rating|parent_asin|\n",
      "+----------+--------------------+------------------+--------------+-----------+\n",
      "|0375869026|              Wonder| 5.003063318598128|           4.7| 0375869026|\n",
      "|0375869026|              Wonder| 5.003063318598128|           4.7| 0375869026|\n",
      "|0375869026|              Wonder| 4.395240822587136|           4.7| 0375869026|\n",
      "|1529110947|When Breath Becom...| 4.786231492981767|           4.7| 1529110947|\n",
      "|1529110947|When Breath Becom...| 4.054776196618482|           4.7| 1529110947|\n",
      "|907843905X| Ship Simulator 2008| 3.509583553268774|           3.3| 907843905X|\n",
      "|9629971372|Dotop Sony Playst...| 4.343345010216033|           4.4| 9629971372|\n",
      "|9629971372|Dotop Sony Playst...|3.5856983020777635|           4.4| 9629971372|\n",
      "|B00000I1BQ|Crash Bandicoot [...| 4.298879075070092|           3.8| B004HILZV4|\n",
      "|B00000JLQU|Barbie Super Spor...| 4.702681978178763|           3.6| B00000JLQU|\n",
      "|B00000K518|The Curse of Monk...| 4.228853605986143|           3.1| B00000K518|\n",
      "|B00000K5D8|Indiana Jones and...|3.5570395419314638|           3.1| B00000K5D8|\n",
      "|B00000K5D8|Indiana Jones and...| 4.634811600873252|           3.1| B00000K5D8|\n",
      "|B00001IVUO|You Don't Know Ja...|3.2027916311876017|           3.6| B00001IVUO|\n",
      "|B00001OHDA|Neo-Geo Pocket Color| 4.468985951740146|           3.8| B00001OHDA|\n",
      "|B000021Y5F|William's Arcade'...| 4.749534031833866|           4.0| B000021Y5F|\n",
      "|B0000296ZL|Game Boy Color - ...| 4.779878384907844|           4.5| B001ELJDUC|\n",
      "|B00002DHEV|Nintendo 64 Syste...| 3.840503765355958|           4.3| B00002DHEV|\n",
      "|B00002ST7N|The Ooze: Sega Ge...| 3.827065382387595|           3.6| B00002ST7N|\n",
      "|B00002STKX|Advanced Dungeons...| 4.353166128498042|           3.9| B00002STKX|\n",
      "+----------+--------------------+------------------+--------------+-----------+\n",
      "only showing top 20 rows\n",
      "\n"
     ]
    }
   ],
   "source": [
    "# Giữ lại average_rating và title gốc từ dữ liệu ban đầu\n",
    "predictions_alias = predictions.alias(\"pred\")\n",
    "cleaned_data_alias = cleaned_data.select(\"asin\", \"average_rating\", \"product_title\", \"parent_asin\") \\\n",
    "    .dropDuplicates([\"asin\"]).alias(\"cd\")\n",
    "\n",
    "test_with_avg = predictions_alias.join(\n",
    "    cleaned_data_alias,\n",
    "    predictions_alias.asin == cleaned_data_alias.asin,\n",
    "    how=\"inner\"\n",
    ")\n",
    "\n",
    "# Hiển thị kết quả\n",
    "test_with_avg.select(\n",
    "    test_with_avg[\"pred.asin\"].alias(\"asin\"),\n",
    "    test_with_avg[\"pred.product_title\"].alias(\"product_title\"),\n",
    "    test_with_avg[\"pred.prediction\"].alias(\"prediction\"),\n",
    "    test_with_avg[\"cd.average_rating\"].alias(\"average_rating\"),\n",
    "    test_with_avg[\"cd.parent_asin\"].alias(\"parent_asin\")\n",
    ").show()"
   ]
  },
  {
   "cell_type": "code",
   "execution_count": 23,
   "id": "f38fa154",
   "metadata": {},
   "outputs": [
    {
     "name": "stdout",
     "output_type": "stream",
     "text": [
      "root\n",
      " |-- parent_asin: string (nullable = true)\n",
      " |-- title: string (nullable = true)\n",
      " |-- average_rating: double (nullable = true)\n",
      " |-- rating_number: long (nullable = true)\n",
      " |-- main_category: string (nullable = true)\n",
      " |-- categories: array (nullable = true)\n",
      " |    |-- element: string (containsNull = true)\n",
      " |-- price: string (nullable = true)\n",
      " |-- store: string (nullable = true)\n",
      "\n"
     ]
    }
   ],
   "source": [
    "metadata.printSchema()"
   ]
  },
  {
   "cell_type": "code",
   "execution_count": 24,
   "id": "55e69309",
   "metadata": {},
   "outputs": [
    {
     "name": "stdout",
     "output_type": "stream",
     "text": [
      "Dự đoán rating cho B004HD55V0: 3.7608281946646858\n"
     ]
    }
   ],
   "source": [
    "# Fit the asin_indexer if not already fitted (use title_vectors_df as in cell 17)\n",
    "asin_indexer_model = asin_indexer.fit(title_vectors_df)\n",
    "\n",
    "def predict_rating(asin_input):\n",
    "    # Lấy title từ metadata\n",
    "    title_row = metadata.filter(metadata.parent_asin == asin_input).select(\"title\").first()\n",
    "    if title_row is None:\n",
    "        raise ValueError(f\"ASIN {asin_input} not found in metadata.\")\n",
    "    title = title_row[\"title\"]\n",
    "    # Tạo DataFrame với asin và title\n",
    "    df = spark.createDataFrame([(asin_input, title)], [\"parent_asin\", \"title\"])\n",
    "    df = asin_indexer_model.transform(df)\n",
    "    df = tokenizer.transform(df)\n",
    "    df = remover.transform(df)\n",
    "    df = w2v_model.transform(df)\n",
    "    df = assembler.transform(df)\n",
    "    # Convert Spark DataFrame to pandas and extract features as numpy array\n",
    "    features_np = df.select(\"features\").toPandas()[\"features\"].apply(lambda v: v.toArray()).tolist()\n",
    "    prediction = model.predict(features_np)[0]\n",
    "    return prediction\n",
    "\n",
    "# Dùng thử\n",
    "predicted_rating = predict_rating(\"B004HD55V0\")\n",
    "print(f\"Dự đoán rating cho B004HD55V0: {predicted_rating}\")"
   ]
  },
  {
   "cell_type": "code",
   "execution_count": 25,
   "id": "3b2a7cb1",
   "metadata": {},
   "outputs": [
    {
     "name": "stdout",
     "output_type": "stream",
     "text": [
      "             asin                                      product_title  \\\n",
      "39276  B07W548HVT  Boowen Wireless Controller for PS4,Double Shoc...   \n",
      "27654  B01N4JYY1H                     Xbox Wireless Controller – Red   \n",
      "18631  B00IZ9T9QE  AKIBA'S TRIP: Undead & Undressed - PlayStation...   \n",
      "42041  B08DJJ9WLW                         EA SPORTS UFC 4 - Xbox One   \n",
      "13499  B008Y1XJGE          LEGO Batman 2: DC Super Heroes [Download]   \n",
      "42681  B08JHQ4NBB  Sackboy: A Big Adventure Special Edition - Pla...   \n",
      "128    B00000J97G                              Game Boy Color - Teal   \n",
      "6643   B002BVQNMU              101-in-1 Party Megamix - Nintendo Wii   \n",
      "12530  B007MZUFUG                                              Brave   \n",
      "38411  B07SMBJVS8  Legend of Zelda Link's Awakening - Nintendo Sw...   \n",
      "\n",
      "       predicted_rating  \n",
      "39276          6.400832  \n",
      "27654          5.021356  \n",
      "18631          4.970993  \n",
      "42041          4.970993  \n",
      "13499          4.970993  \n",
      "42681          4.970993  \n",
      "128            4.970993  \n",
      "6643           4.970993  \n",
      "12530          4.970993  \n",
      "38411          4.970993  \n"
     ]
    },
    {
     "data": {
      "application/vnd.microsoft.datawrangler.viewer.v0+json": {
       "columns": [
        {
         "name": "index",
         "rawType": "int64",
         "type": "integer"
        },
        {
         "name": "asin",
         "rawType": "object",
         "type": "string"
        },
        {
         "name": "product_title",
         "rawType": "object",
         "type": "string"
        },
        {
         "name": "predicted_rating",
         "rawType": "float64",
         "type": "float"
        }
       ],
       "ref": "76e4460a-decd-4c66-872f-3f31eaec03fb",
       "rows": [
        [
         "39276",
         "B07W548HVT",
         "Boowen Wireless Controller for PS4,Double Shock,Six-Axis Controller Gamepad Compatible with PS-4 /Pro/Slim with Sensitive Touch Pad,Audio Function, Mini LED Indicator, Red",
         "6.400831875279317"
        ],
        [
         "27654",
         "B01N4JYY1H",
         "Xbox Wireless Controller – Red",
         "5.021355816295604"
        ],
        [
         "18631",
         "B00IZ9T9QE",
         "AKIBA'S TRIP: Undead & Undressed - PlayStation Vita",
         "4.970992533787419"
        ],
        [
         "42041",
         "B08DJJ9WLW",
         "EA SPORTS UFC 4 - Xbox One",
         "4.970992533787419"
        ],
        [
         "13499",
         "B008Y1XJGE",
         "LEGO Batman 2: DC Super Heroes [Download]",
         "4.970992533787419"
        ],
        [
         "42681",
         "B08JHQ4NBB",
         "Sackboy: A Big Adventure Special Edition - PlayStation 4",
         "4.970992533787419"
        ],
        [
         "128",
         "B00000J97G",
         "Game Boy Color - Teal",
         "4.970992533787419"
        ],
        [
         "6643",
         "B002BVQNMU",
         "101-in-1 Party Megamix - Nintendo Wii",
         "4.970992533787419"
        ],
        [
         "12530",
         "B007MZUFUG",
         "Brave",
         "4.970992533787419"
        ],
        [
         "38411",
         "B07SMBJVS8",
         "Legend of Zelda Link's Awakening - Nintendo Switch [Digital Code]",
         "4.970992533787419"
        ]
       ],
       "shape": {
        "columns": 3,
        "rows": 10
       }
      },
      "text/html": [
       "<div>\n",
       "<style scoped>\n",
       "    .dataframe tbody tr th:only-of-type {\n",
       "        vertical-align: middle;\n",
       "    }\n",
       "\n",
       "    .dataframe tbody tr th {\n",
       "        vertical-align: top;\n",
       "    }\n",
       "\n",
       "    .dataframe thead th {\n",
       "        text-align: right;\n",
       "    }\n",
       "</style>\n",
       "<table border=\"1\" class=\"dataframe\">\n",
       "  <thead>\n",
       "    <tr style=\"text-align: right;\">\n",
       "      <th></th>\n",
       "      <th>asin</th>\n",
       "      <th>product_title</th>\n",
       "      <th>predicted_rating</th>\n",
       "    </tr>\n",
       "  </thead>\n",
       "  <tbody>\n",
       "    <tr>\n",
       "      <th>39276</th>\n",
       "      <td>B07W548HVT</td>\n",
       "      <td>Boowen Wireless Controller for PS4,Double Shoc...</td>\n",
       "      <td>6.400832</td>\n",
       "    </tr>\n",
       "    <tr>\n",
       "      <th>27654</th>\n",
       "      <td>B01N4JYY1H</td>\n",
       "      <td>Xbox Wireless Controller – Red</td>\n",
       "      <td>5.021356</td>\n",
       "    </tr>\n",
       "    <tr>\n",
       "      <th>18631</th>\n",
       "      <td>B00IZ9T9QE</td>\n",
       "      <td>AKIBA'S TRIP: Undead &amp; Undressed - PlayStation...</td>\n",
       "      <td>4.970993</td>\n",
       "    </tr>\n",
       "    <tr>\n",
       "      <th>42041</th>\n",
       "      <td>B08DJJ9WLW</td>\n",
       "      <td>EA SPORTS UFC 4 - Xbox One</td>\n",
       "      <td>4.970993</td>\n",
       "    </tr>\n",
       "    <tr>\n",
       "      <th>13499</th>\n",
       "      <td>B008Y1XJGE</td>\n",
       "      <td>LEGO Batman 2: DC Super Heroes [Download]</td>\n",
       "      <td>4.970993</td>\n",
       "    </tr>\n",
       "    <tr>\n",
       "      <th>42681</th>\n",
       "      <td>B08JHQ4NBB</td>\n",
       "      <td>Sackboy: A Big Adventure Special Edition - Pla...</td>\n",
       "      <td>4.970993</td>\n",
       "    </tr>\n",
       "    <tr>\n",
       "      <th>128</th>\n",
       "      <td>B00000J97G</td>\n",
       "      <td>Game Boy Color - Teal</td>\n",
       "      <td>4.970993</td>\n",
       "    </tr>\n",
       "    <tr>\n",
       "      <th>6643</th>\n",
       "      <td>B002BVQNMU</td>\n",
       "      <td>101-in-1 Party Megamix - Nintendo Wii</td>\n",
       "      <td>4.970993</td>\n",
       "    </tr>\n",
       "    <tr>\n",
       "      <th>12530</th>\n",
       "      <td>B007MZUFUG</td>\n",
       "      <td>Brave</td>\n",
       "      <td>4.970993</td>\n",
       "    </tr>\n",
       "    <tr>\n",
       "      <th>38411</th>\n",
       "      <td>B07SMBJVS8</td>\n",
       "      <td>Legend of Zelda Link's Awakening - Nintendo Sw...</td>\n",
       "      <td>4.970993</td>\n",
       "    </tr>\n",
       "  </tbody>\n",
       "</table>\n",
       "</div>"
      ],
      "text/plain": [
       "             asin                                      product_title  \\\n",
       "39276  B07W548HVT  Boowen Wireless Controller for PS4,Double Shoc...   \n",
       "27654  B01N4JYY1H                     Xbox Wireless Controller – Red   \n",
       "18631  B00IZ9T9QE  AKIBA'S TRIP: Undead & Undressed - PlayStation...   \n",
       "42041  B08DJJ9WLW                         EA SPORTS UFC 4 - Xbox One   \n",
       "13499  B008Y1XJGE          LEGO Batman 2: DC Super Heroes [Download]   \n",
       "42681  B08JHQ4NBB  Sackboy: A Big Adventure Special Edition - Pla...   \n",
       "128    B00000J97G                              Game Boy Color - Teal   \n",
       "6643   B002BVQNMU              101-in-1 Party Megamix - Nintendo Wii   \n",
       "12530  B007MZUFUG                                              Brave   \n",
       "38411  B07SMBJVS8  Legend of Zelda Link's Awakening - Nintendo Sw...   \n",
       "\n",
       "       predicted_rating  \n",
       "39276          6.400832  \n",
       "27654          5.021356  \n",
       "18631          4.970993  \n",
       "42041          4.970993  \n",
       "13499          4.970993  \n",
       "42681          4.970993  \n",
       "128            4.970993  \n",
       "6643           4.970993  \n",
       "12530          4.970993  \n",
       "38411          4.970993  "
      ]
     },
     "execution_count": 25,
     "metadata": {},
     "output_type": "execute_result"
    }
   ],
   "source": [
    "from pyspark.sql.functions import lit\n",
    "\n",
    "def recommend_top_n_for_user(user_id, n=10):\n",
    "    # Lấy lịch sử các sản phẩm user đã đánh giá\n",
    "    user_history = cleaned_data.filter(col(\"user_id\") == user_id).select(\"asin\").distinct()\n",
    "    user_history_asins = [row.asin for row in user_history.collect()]\n",
    "\n",
    "    # Lấy danh sách tất cả sản phẩm chưa đánh giá\n",
    "    all_asins = cleaned_data.select(\"asin\", \"title\", \"product_title\").distinct()\n",
    "    unseen_products = all_asins.filter(~col(\"asin\").isin(user_history_asins))\n",
    "\n",
    "    # Chuẩn bị DataFrame cho dự đoán: mỗi sản phẩm unseen + user_id\n",
    "    user_products = unseen_products.withColumn(\"user_id\", lit(user_id))\n",
    "\n",
    "    # Tiền xử lý giống train\n",
    "    user_products = tokenizer.transform(user_products)\n",
    "    user_products = remover.transform(user_products)\n",
    "    user_products = w2v_model.transform(user_products)\n",
    "    user_products = assembler.transform(user_products)\n",
    "\n",
    "    # Dự đoán rating\n",
    "    features_np = user_products.select(\"features\").toPandas()[\"features\"].apply(lambda v: v.toArray()).tolist()\n",
    "    predicted_ratings = model.predict(features_np)\n",
    "\n",
    "    # Gắn lại vào DataFrame\n",
    "    user_products_pd = user_products.select(\"asin\", \"product_title\").toPandas()\n",
    "    user_products_pd[\"predicted_rating\"] = predicted_ratings\n",
    "\n",
    "    # Sắp xếp và lấy top n\n",
    "    top_n = user_products_pd.sort_values(\"predicted_rating\", ascending=False).head(n)\n",
    "\n",
    "    # Hiển thị kết quả\n",
    "    print(top_n[[\"asin\", \"product_title\", \"predicted_rating\"]])\n",
    "    return top_n\n",
    "\n",
    "# Ví dụ sử dụng:\n",
    "user_id = \"AHP4ABT4A0UOKHKXCUT3JCFU623A\"  # thay bằng user_id thực tế\n",
    "recommend_top_n_for_user(user_id, n=10)"
   ]
  }
 ],
 "metadata": {
  "kernelspec": {
   "display_name": "Python 3",
   "language": "python",
   "name": "python3"
  },
  "language_info": {
   "codemirror_mode": {
    "name": "ipython",
    "version": 3
   },
   "file_extension": ".py",
   "mimetype": "text/x-python",
   "name": "python",
   "nbconvert_exporter": "python",
   "pygments_lexer": "ipython3",
   "version": "3.10.11"
  }
 },
 "nbformat": 4,
 "nbformat_minor": 5
}
