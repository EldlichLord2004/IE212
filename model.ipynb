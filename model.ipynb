{
 "cells": [
  {
   "cell_type": "code",
   "execution_count": 1,
   "id": "1414be41",
   "metadata": {},
   "outputs": [],
   "source": [
    "import json\n",
    "import pandas as pd\n",
    "import findspark\n",
    "findspark.init()\n",
    "\n",
    "from pyspark.sql import SparkSession\n",
    "from pyspark.sql.functions import col, split, explode\n",
    "\n",
    "\n",
    "spark = SparkSession.builder.appName(\"ProcessingDataset\")\\\n",
    "    .config(\"spark.kryoserializer.buffer.max\", \"512m\") \\\n",
    "    .getOrCreate()\n",
    "spark.conf.set('spark.sql.caseSensitive', True)"
   ]
  },
  {
   "cell_type": "code",
   "execution_count": 2,
   "id": "d57dee29",
   "metadata": {},
   "outputs": [],
   "source": [
    "user_reviews= spark.read.parquet(\"Dataset/user_reviews.parquet\")"
   ]
  },
  {
   "cell_type": "code",
   "execution_count": 3,
   "id": "75ca11e2",
   "metadata": {},
   "outputs": [
    {
     "name": "stdout",
     "output_type": "stream",
     "text": [
      "+------------+--------------------------------------------------------+------+------------+----------------------------+----------+-----------+--------------------------------------------------------------------------------------------------------------------------------------------------------------------------------------------------------------------------------------------------------------------------------------------------------------------------------------------------------------------------------------------------------------------------------------------------------------------------------------------------------------------------------------------------------------------------------------------------------------------------------------------------------------------------------------------------------------------------------------------------------------------------------------------------------+-----------+------------+-----------------+-------------------+\n",
      "|review_id   |title                                                   |rating|rating_label|user_id                     |asin      |parent_asin|text                                                                                                                                                                                                                                                                                                                                                                                                                                                                                                                                                                                                                                                                                                                                                                                                    |text_length|helpful_vote|verified_purchase|datetime           |\n",
      "+------------+--------------------------------------------------------+------+------------+----------------------------+----------+-----------+--------------------------------------------------------------------------------------------------------------------------------------------------------------------------------------------------------------------------------------------------------------------------------------------------------------------------------------------------------------------------------------------------------------------------------------------------------------------------------------------------------------------------------------------------------------------------------------------------------------------------------------------------------------------------------------------------------------------------------------------------------------------------------------------------------+-----------+------------+-----------------+-------------------+\n",
      "|103079215104|Great game for those wanting historical info of Templars|5.0   |positive    |AHP4ABT4AOUOKHKXCUT3JCFU623A|B004H0J5QY|B004HD55V0 |Great game for those wanting to play historical period,no trolls ,dragons or wizzards,just plain medevil combat,with tasks for two Templar knights to perform to find the Holly-Grail ,I will not give out the plot since it has twists that are unexpected,but well worth the time to play ,will gain insight in to the Templars' history  ,The game is very easy to install since it is windows based and has great graphics,plus un-like other single shooter games you can switch between the two templars you want to play,Shame there is not a Templar II to countine the story line,but you will find many twists and turns in this game,unexpected,the story-line is well written,like an inter-active book Warning its hard to stop playing once you start the ,game time about 9 hours of play|776        |0           |true             |2014-04-21 00:58:24|\n",
      "|103079215105|Great value,for the amount of game that you get         |5.0   |positive    |AHP4ABT4AOUOKHKXCUT3JCFU623A|B00AR5BNYU|B00AR5BNYU |Great graphics,no problems with running the game,installs very easy,and can be up and playing in no time,You build yourself up in status,and gain favor of the king of your clan,thur warfare and favors which gives you more villages,giving you more wealth to buy better weapons and armor,and stepping up to marry,giving you a title and a path to the throne,so you have alot to keep you interested in going forward after each chapter is completed,the goal of the game is to become king,                                                                                                                                                                                                                                                                                                     |483        |1           |false            |2013-06-01 08:08:41|\n",
      "|103079215106|Do not waste the money or effort                        |1.0   |negative    |AHP4ABT4AOUOKHKXCUT3JCFU623A|B003MQMPD4|B003NE6BQW |I wish I could give a review of this game,nothing but muti= crashes,tried everything,updates,computer hardware checks,this is the only game that I have  this problem on my system,Do not waste the money or effort,there is no fix for the problem,do not fall for all you have to do is run an update,                                                                                                                                                                                                                                                                                                                                                                                                                                                                                                |296        |4           |true             |2012-01-19 09:11:03|\n",
      "|103079215107|If looking for a good WWI game this is it               |4.0   |positive    |AHP4ABT4AOUOKHKXCUT3JCFU623A|B003L77ZHK|B003L77ZHK |I have been looking for a good WWI game for a long time,this game is one of the best that I have found,very good 3D graphics,It is on the same game platform as CDV Blitzkrieg WWII games,Only draw back, slow controls,You have so many units in one game to control,at times its like herding cats,but in all its a good game to spend a day playing,for $9.99.as for the crash problems others had stated,I have had no problems                                                                                                                                                                                                                                                                                                                                                                     |419        |3           |true             |2012-01-14 07:48:46|\n",
      "|103079215108|Just what I needed                                      |5.0   |positive    |AEHINTI4PJFF3EQ7OL3Q2C3NYP7Q|B07TL5TKG9|B07WRDYD2N |Fit perfectly with my color theme of my Mac, and is very responsive.                                                                                                                                                                                                                                                                                                                                                                                                                                                                                                                                                                                                                                                                                                                                    |68         |0           |true             |2021-02-01 02:31:31|\n",
      "+------------+--------------------------------------------------------+------+------------+----------------------------+----------+-----------+--------------------------------------------------------------------------------------------------------------------------------------------------------------------------------------------------------------------------------------------------------------------------------------------------------------------------------------------------------------------------------------------------------------------------------------------------------------------------------------------------------------------------------------------------------------------------------------------------------------------------------------------------------------------------------------------------------------------------------------------------------------------------------------------------------+-----------+------------+-----------------+-------------------+\n",
      "only showing top 5 rows\n",
      "\n"
     ]
    }
   ],
   "source": [
    "user_reviews.show(5, False)"
   ]
  },
  {
   "cell_type": "code",
   "execution_count": 4,
   "id": "724e0488",
   "metadata": {},
   "outputs": [],
   "source": [
    "user_reviews_demo = user_reviews.limit(100000)"
   ]
  },
  {
   "cell_type": "code",
   "execution_count": 5,
   "id": "0bd97388",
   "metadata": {},
   "outputs": [
    {
     "name": "stdout",
     "output_type": "stream",
     "text": [
      "+------------+--------------------------------------------------------+------+------------+----------------------------+----------+-----------+--------------------------------------------------------------------------------------------------------------------------------------------------------------------------------------------------------------------------------------------------------------------------------------------------------------------------------------------------------------------------------------------------------------------------------------------------------------------------------------------------------------------------------------------------------------------------------------------------------------------------------------------------------------------------------------------------------------------------------------------------------------------------------------------------------+-----------+------------+-----------------+-------------------+\n",
      "|review_id   |title                                                   |rating|rating_label|user_id                     |asin      |parent_asin|text                                                                                                                                                                                                                                                                                                                                                                                                                                                                                                                                                                                                                                                                                                                                                                                                    |text_length|helpful_vote|verified_purchase|datetime           |\n",
      "+------------+--------------------------------------------------------+------+------------+----------------------------+----------+-----------+--------------------------------------------------------------------------------------------------------------------------------------------------------------------------------------------------------------------------------------------------------------------------------------------------------------------------------------------------------------------------------------------------------------------------------------------------------------------------------------------------------------------------------------------------------------------------------------------------------------------------------------------------------------------------------------------------------------------------------------------------------------------------------------------------------+-----------+------------+-----------------+-------------------+\n",
      "|103079215104|Great game for those wanting historical info of Templars|5.0   |positive    |AHP4ABT4AOUOKHKXCUT3JCFU623A|B004H0J5QY|B004HD55V0 |Great game for those wanting to play historical period,no trolls ,dragons or wizzards,just plain medevil combat,with tasks for two Templar knights to perform to find the Holly-Grail ,I will not give out the plot since it has twists that are unexpected,but well worth the time to play ,will gain insight in to the Templars' history  ,The game is very easy to install since it is windows based and has great graphics,plus un-like other single shooter games you can switch between the two templars you want to play,Shame there is not a Templar II to countine the story line,but you will find many twists and turns in this game,unexpected,the story-line is well written,like an inter-active book Warning its hard to stop playing once you start the ,game time about 9 hours of play|776        |0           |true             |2014-04-21 00:58:24|\n",
      "|103079215105|Great value,for the amount of game that you get         |5.0   |positive    |AHP4ABT4AOUOKHKXCUT3JCFU623A|B00AR5BNYU|B00AR5BNYU |Great graphics,no problems with running the game,installs very easy,and can be up and playing in no time,You build yourself up in status,and gain favor of the king of your clan,thur warfare and favors which gives you more villages,giving you more wealth to buy better weapons and armor,and stepping up to marry,giving you a title and a path to the throne,so you have alot to keep you interested in going forward after each chapter is completed,the goal of the game is to become king,                                                                                                                                                                                                                                                                                                     |483        |1           |false            |2013-06-01 08:08:41|\n",
      "|103079215106|Do not waste the money or effort                        |1.0   |negative    |AHP4ABT4AOUOKHKXCUT3JCFU623A|B003MQMPD4|B003NE6BQW |I wish I could give a review of this game,nothing but muti= crashes,tried everything,updates,computer hardware checks,this is the only game that I have  this problem on my system,Do not waste the money or effort,there is no fix for the problem,do not fall for all you have to do is run an update,                                                                                                                                                                                                                                                                                                                                                                                                                                                                                                |296        |4           |true             |2012-01-19 09:11:03|\n",
      "|103079215107|If looking for a good WWI game this is it               |4.0   |positive    |AHP4ABT4AOUOKHKXCUT3JCFU623A|B003L77ZHK|B003L77ZHK |I have been looking for a good WWI game for a long time,this game is one of the best that I have found,very good 3D graphics,It is on the same game platform as CDV Blitzkrieg WWII games,Only draw back, slow controls,You have so many units in one game to control,at times its like herding cats,but in all its a good game to spend a day playing,for $9.99.as for the crash problems others had stated,I have had no problems                                                                                                                                                                                                                                                                                                                                                                     |419        |3           |true             |2012-01-14 07:48:46|\n",
      "|103079215108|Just what I needed                                      |5.0   |positive    |AEHINTI4PJFF3EQ7OL3Q2C3NYP7Q|B07TL5TKG9|B07WRDYD2N |Fit perfectly with my color theme of my Mac, and is very responsive.                                                                                                                                                                                                                                                                                                                                                                                                                                                                                                                                                                                                                                                                                                                                    |68         |0           |true             |2021-02-01 02:31:31|\n",
      "+------------+--------------------------------------------------------+------+------------+----------------------------+----------+-----------+--------------------------------------------------------------------------------------------------------------------------------------------------------------------------------------------------------------------------------------------------------------------------------------------------------------------------------------------------------------------------------------------------------------------------------------------------------------------------------------------------------------------------------------------------------------------------------------------------------------------------------------------------------------------------------------------------------------------------------------------------------------------------------------------------------+-----------+------------+-----------------+-------------------+\n",
      "only showing top 5 rows\n",
      "\n"
     ]
    }
   ],
   "source": [
    "user_reviews_demo.show(5, False)"
   ]
  },
  {
   "cell_type": "code",
   "execution_count": 6,
   "id": "d90914fd",
   "metadata": {},
   "outputs": [
    {
     "name": "stdout",
     "output_type": "stream",
     "text": [
      "+-----------+--------------------------------------------------------------------------------------------------------------------------------------------------------------------------------------------------------+--------------+-------------+-------------------------+-------------------------------------------------------------------+-----+-----------+\n",
      "|parent_asin|title                                                                                                                                                                                                   |average_rating|rating_number|main_category            |categories                                                         |price|store      |\n",
      "+-----------+--------------------------------------------------------------------------------------------------------------------------------------------------------------------------------------------------------+--------------+-------------+-------------------------+-------------------------------------------------------------------+-----+-----------+\n",
      "|B08PNXK9RG |MASiKEN Head Strap for VR Oculus Quest 2, Accessories Head Strap fit Oculus 2 Official Carrying Case, Adjustable Headband Relieve Face Squeeze, Enhanced Support and Comfortable Touch (White, K3 Small)|4.4           |154          |Cell Phones & Accessories|[Video Games, PC, Virtual Reality, Headsets]                       |NULL |MASiKEN    |\n",
      "|B0B7P1DDFJ |Wireless Mouse, 2.4G Wireless Ergonomic Gaming Optical Mouse with 3 Adjustable DPI 800/1200 /1600, Portable Slim Silent USB Cordless Computer Mice for Desktop, Notebook, MacBook, Chromebook, PC(Pink) |1.0           |1            |All Electronics          |[Video Games, PC, Accessories, Gaming Mice]                        |NULL |Gabongcui  |\n",
      "|B011AUYCNY |LEGO Jurassic World for Xbox One                                                                                                                                                                        |4.7           |407          |Video Games              |[Video Games, Xbox One, Games]                                     |20.95|WARNER BROS|\n",
      "|B00006ANZ2 |Worms Triple Pack - PC                                                                                                                                                                                  |3.1           |15           |Video Games              |[Video Games, PC, Games]                                           |50.0 |Ubisoft    |\n",
      "|B01J4K4OBM |Fire Emblem Fates: Conquest - Nintendo 3DS by Nintendo                                                                                                                                                  |5.0           |7            |Video Games              |[Video Games, Legacy Systems, Nintendo Systems, Nintendo 3DS & 2DS]|62.99|Nintendo   |\n",
      "+-----------+--------------------------------------------------------------------------------------------------------------------------------------------------------------------------------------------------------+--------------+-------------+-------------------------+-------------------------------------------------------------------+-----+-----------+\n",
      "only showing top 5 rows\n",
      "\n"
     ]
    }
   ],
   "source": [
    "metadata=spark.read.parquet(\"Dataset/metadata.parquet\")\n",
    "metadata.show(5, False)"
   ]
  },
  {
   "cell_type": "code",
   "execution_count": 7,
   "id": "a2a156d9",
   "metadata": {},
   "outputs": [],
   "source": [
    "full_data = user_reviews_demo.join(metadata, user_reviews_demo.parent_asin == metadata.parent_asin, \"inner\")"
   ]
  },
  {
   "cell_type": "code",
   "execution_count": 8,
   "id": "a57dfa80",
   "metadata": {},
   "outputs": [
    {
     "name": "stdout",
     "output_type": "stream",
     "text": [
      "+------------+------------------------------------------------------------------------------------------------------------------------------+------+--------------+-------------+----------+-----------+----------------------------+------------+------------------------------------------------------------+\n",
      "|review_id   |title                                                                                                                         |rating|average_rating|rating_number|asin      |parent_asin|user_id                     |helpful_vote|categories                                                  |\n",
      "+------------+------------------------------------------------------------------------------------------------------------------------------+------+--------------+-------------+----------+-----------+----------------------------+------------+------------------------------------------------------------+\n",
      "|103079215104|The First Templar - Xbox 360                                                                                                  |5.0   |4.4           |155          |B004H0J5QY|B004HD55V0 |AHP4ABT4AOUOKHKXCUT3JCFU623A|0           |[Video Games, Legacy Systems, Xbox Systems, Xbox 360, Games]|\n",
      "|103079215105|Mount & Blade: Warband Demo [Download]                                                                                        |5.0   |3.7           |31           |B00AR5BNYU|B00AR5BNYU |AHP4ABT4AOUOKHKXCUT3JCFU623A|1           |[Video Games, PC, Games]                                    |\n",
      "|103079215106|Europa Universalis Rome Gold [Download]                                                                                       |1.0   |3.0           |41           |B003MQMPD4|B003NE6BQW |AHP4ABT4AOUOKHKXCUT3JCFU623A|4           |[Video Games, PC, Games]                                    |\n",
      "|103079215107|World War 1 [Download]                                                                                                        |4.0   |3.1           |14           |B003L77ZHK|B003L77ZHK |AHP4ABT4AOUOKHKXCUT3JCFU623A|3           |[Video Games, PC, Games]                                    |\n",
      "|103079215108|Corsair M55 RGB Pro Wired Ambidextrous Multi-Grip Gaming Mouse - 12,400 DPI Adjustable Sensor - 8 Programmable Buttons - Black|5.0   |4.6           |1702         |B07TL5TKG9|B07WRDYD2N |AEHINTI4PJFF3EQ7OL3Q2C3NYP7Q|0           |[Video Games, PC, Accessories, Gaming Mice]                 |\n",
      "+------------+------------------------------------------------------------------------------------------------------------------------------+------+--------------+-------------+----------+-----------+----------------------------+------------+------------------------------------------------------------+\n",
      "only showing top 5 rows\n",
      "\n"
     ]
    }
   ],
   "source": [
    "full_data_filter = full_data.select(\n",
    "\t\"review_id\",\n",
    "\tmetadata[\"title\"].alias(\"title\"),\n",
    "\t\"rating\",\n",
    "\t\"average_rating\",\n",
    "\t\"rating_number\",\n",
    "\tuser_reviews_demo[\"asin\"].alias(\"asin\"),\n",
    "\tmetadata[\"parent_asin\"].alias(\"parent_asin\"),\n",
    "\t\"user_id\",\n",
    "\t\"helpful_vote\",\n",
    "\t\"categories\"\n",
    ")\n",
    "full_data_filter.show(5, False)"
   ]
  },
  {
   "cell_type": "code",
   "execution_count": 9,
   "id": "2937482a",
   "metadata": {},
   "outputs": [
    {
     "name": "stdout",
     "output_type": "stream",
     "text": [
      "root\n",
      " |-- review_id: long (nullable = true)\n",
      " |-- title: string (nullable = true)\n",
      " |-- rating: double (nullable = true)\n",
      " |-- average_rating: double (nullable = true)\n",
      " |-- rating_number: long (nullable = true)\n",
      " |-- asin: string (nullable = true)\n",
      " |-- parent_asin: string (nullable = true)\n",
      " |-- user_id: string (nullable = true)\n",
      " |-- helpful_vote: long (nullable = true)\n",
      " |-- categories: array (nullable = true)\n",
      " |    |-- element: string (containsNull = true)\n",
      "\n"
     ]
    }
   ],
   "source": [
    "full_data_filter.printSchema()"
   ]
  },
  {
   "cell_type": "markdown",
   "id": "e6a21c24",
   "metadata": {},
   "source": [
    "## Simple recommendation model\n"
   ]
  },
  {
   "cell_type": "code",
   "execution_count": 10,
   "id": "96535b24",
   "metadata": {},
   "outputs": [],
   "source": [
    "from pyspark.ml.recommendation import ALS\n",
    "from pyspark.ml.evaluation import RegressionEvaluator"
   ]
  },
  {
   "cell_type": "code",
   "execution_count": 19,
   "id": "d5cdd660",
   "metadata": {},
   "outputs": [],
   "source": [
    "ratings = full_data_filter.select(\"user_id\", \"parent_asin\", \"rating\", \"rating_number\", \"helpful_vote\")"
   ]
  },
  {
   "cell_type": "code",
   "execution_count": 20,
   "id": "44ec33ea",
   "metadata": {},
   "outputs": [
    {
     "name": "stdout",
     "output_type": "stream",
     "text": [
      "+----------------------------+-----------+------+-------------+------------+\n",
      "|user_id                     |parent_asin|rating|rating_number|helpful_vote|\n",
      "+----------------------------+-----------+------+-------------+------------+\n",
      "|AHP4ABT4AOUOKHKXCUT3JCFU623A|B004HD55V0 |5.0   |155          |0           |\n",
      "|AHP4ABT4AOUOKHKXCUT3JCFU623A|B00AR5BNYU |5.0   |31           |1           |\n",
      "|AHP4ABT4AOUOKHKXCUT3JCFU623A|B003NE6BQW |1.0   |41           |4           |\n",
      "|AHP4ABT4AOUOKHKXCUT3JCFU623A|B003L77ZHK |4.0   |14           |3           |\n",
      "|AEHINTI4PJFF3EQ7OL3Q2C3NYP7Q|B07WRDYD2N |5.0   |1702         |0           |\n",
      "+----------------------------+-----------+------+-------------+------------+\n",
      "only showing top 5 rows\n",
      "\n"
     ]
    }
   ],
   "source": [
    "ratings.show(5, False)"
   ]
  },
  {
   "cell_type": "code",
   "execution_count": null,
   "id": "ba69da07",
   "metadata": {},
   "outputs": [],
   "source": [
    "(train, test) = ratings.randomSplit([0.8, 0.2], seed=42)"
   ]
  },
  {
   "cell_type": "code",
   "execution_count": 26,
   "id": "4f1a0770",
   "metadata": {},
   "outputs": [],
   "source": [
    "from pyspark.ml.feature import StringIndexer\n",
    "from pyspark.ml.recommendation import ALS\n",
    "\n",
    "# Chuyển đổi user_id và parent_asin sang dạng số\n",
    "user_indexer = StringIndexer(inputCol=\"user_id\", outputCol=\"user_id_index\")\n",
    "item_indexer = StringIndexer(inputCol=\"parent_asin\", outputCol=\"parent_asin_index\")\n",
    "\n",
    "# Fit và transform trên tập train và test\n",
    "train_indexed = user_indexer.fit(train).transform(train)\n",
    "train_indexed = item_indexer.fit(train_indexed).transform(train_indexed)\n",
    "test_indexed = user_indexer.fit(test).transform(test)\n",
    "test_indexed = item_indexer.fit(test_indexed).transform(test_indexed)\n",
    "\n",
    "# Khởi tạo mô hình ALS với các cột đã được index\n",
    "als = ALS(\n",
    "    userCol=\"user_id_index\",\n",
    "    itemCol=\"parent_asin_index\",\n",
    "    ratingCol=\"weighted_rating\",\n",
    "    nonnegative=True,  # Đảm bảo giá trị rating không âm\n",
    "    coldStartStrategy=\"drop\",  # Xử lý người dùng/sản phẩm mới\n",
    "    implicitPrefs=False,  # Sử dụng explicit feedback (rating)\n",
    "    rank=10,  # Số chiều latent factor\n",
    "    regParam=0.01,  # Param regularization\n",
    "    maxIter=10  # Số lần lặp\n",
    ")\n",
    "\n",
    "# Huấn luyện mô hình\n",
    "model = als.fit(train_indexed)"
   ]
  },
  {
   "cell_type": "code",
   "execution_count": 27,
   "id": "8d36c160",
   "metadata": {},
   "outputs": [
    {
     "name": "stdout",
     "output_type": "stream",
     "text": [
      "Root-mean-square error (RMSE) = 8.32067381526845\n"
     ]
    }
   ],
   "source": [
    "from pyspark.ml.evaluation import RegressionEvaluator\n",
    "\n",
    "# Dự đoán trên tập test\n",
    "predictions = model.transform(test_indexed)\n",
    "\n",
    "# Đánh giá mô hình bằng RMSE\n",
    "evaluator = RegressionEvaluator(\n",
    "    metricName=\"rmse\",\n",
    "    labelCol=\"rating\",\n",
    "    predictionCol=\"prediction\"\n",
    ")\n",
    "rmse = evaluator.evaluate(predictions)\n",
    "print(f\"Root-mean-square error (RMSE) = {rmse}\")"
   ]
  },
  {
   "cell_type": "code",
   "execution_count": 28,
   "id": "e26eae5d",
   "metadata": {},
   "outputs": [
    {
     "name": "stdout",
     "output_type": "stream",
     "text": [
      "+-------------+-------------------------------------------------------------------------------------------------------------------------------------------------------------------------------------------------+\n",
      "|user_id_index|recommendations                                                                                                                                                                                  |\n",
      "+-------------+-------------------------------------------------------------------------------------------------------------------------------------------------------------------------------------------------+\n",
      "|28           |[{3973, 28.289854}, {2017, 26.465809}, {4182, 26.12461}, {4371, 25.730793}, {20660, 25.359581}, {20662, 25.32248}, {2032, 25.282751}, {1706, 25.219788}, {3946, 25.212965}, {3050, 25.092312}]   |\n",
      "|31           |[{5553, 14.505441}, {22759, 14.482898}, {9618, 13.807688}, {5077, 13.478688}, {7539, 13.425328}, {8354, 13.224518}, {1784, 13.038552}, {4014, 12.824966}, {5335, 12.675686}, {5625, 12.443587}]  |\n",
      "|34           |[{22759, 19.41545}, {8818, 17.795202}, {5335, 17.20171}, {19361, 16.958284}, {14637, 16.823547}, {7988, 16.789701}, {7622, 16.501934}, {21726, 16.457165}, {21378, 16.38194}, {4014, 16.152328}] |\n",
      "|53           |[{1452, 27.991508}, {8891, 26.406294}, {5468, 24.846323}, {3085, 24.528366}, {9609, 24.02974}, {4996, 23.992321}, {4068, 23.86919}, {3733, 23.735102}, {22853, 23.649683}, {1070, 23.613884}]    |\n",
      "|65           |[{9298, 26.36341}, {4068, 25.216188}, {3183, 24.516216}, {4923, 24.215895}, {20596, 23.851059}, {3635, 23.267797}, {2883, 23.15128}, {2804, 23.063868}, {8943, 23.044613}, {2440, 22.958658}]    |\n",
      "|78           |[{5495, 23.374619}, {20288, 20.96771}, {5810, 20.876247}, {2562, 20.325018}, {8288, 20.221075}, {4704, 19.477419}, {3050, 19.3675}, {1706, 19.232946}, {18563, 19.096138}, {2057, 19.01999}]     |\n",
      "|81           |[{8288, 32.11859}, {3799, 31.743092}, {14842, 31.015945}, {16296, 30.440536}, {5431, 29.715158}, {16986, 29.626904}, {3911, 29.328533}, {4056, 29.01173}, {8119, 28.753235}, {5743, 28.3212}]    |\n",
      "|85           |[{3105, 64.4741}, {8443, 60.650337}, {9177, 59.67439}, {8398, 56.526306}, {5743, 55.97762}, {5723, 54.117958}, {5126, 53.582275}, {8282, 52.004314}, {5714, 50.60723}, {15770, 50.56944}]        |\n",
      "|101          |[{8354, 34.217354}, {1520, 32.48953}, {1070, 32.197567}, {4068, 31.371025}, {6070, 31.167667}, {19616, 30.762177}, {12195, 30.141676}, {782, 29.730597}, {8891, 29.614105}, {2804, 29.370747}]   |\n",
      "|108          |[{9609, 44.503853}, {9298, 44.411015}, {4068, 44.381695}, {22587, 44.092983}, {8891, 43.905098}, {3085, 43.742275}, {3733, 43.65905}, {8405, 43.40486}, {1452, 42.29519}, {5277, 41.214165}]     |\n",
      "|115          |[{5723, 57.949352}, {9538, 56.265392}, {13841, 56.111816}, {4523, 53.763966}, {18987, 53.397537}, {7678, 52.486423}, {17569, 51.996086}, {2449, 51.842255}, {7999, 51.448273}, {2063, 48.713917}]|\n",
      "|126          |[{2449, 17.719866}, {9538, 15.846186}, {16868, 15.68396}, {5723, 15.229988}, {4523, 14.99968}, {2995, 14.513622}, {8443, 14.336274}, {3711, 14.003533}, {6845, 13.998074}, {1784, 13.97892}]     |\n",
      "|133          |[{21350, 21.461782}, {4056, 21.136805}, {3911, 19.90436}, {22057, 19.877794}, {3799, 19.69158}, {1706, 19.296371}, {21914, 19.148733}, {2449, 19.077765}, {1784, 19.063335}, {9426, 19.024502}]  |\n",
      "|137          |[{1520, 15.86446}, {8354, 14.662178}, {1070, 13.894995}, {2092, 13.674139}, {3785, 12.9690895}, {1452, 12.903845}, {8891, 12.855963}, {4068, 12.832887}, {5314, 12.712492}, {8631, 12.676983}]   |\n",
      "|148          |[{5723, 22.559984}, {9538, 19.624588}, {17569, 19.300507}, {4523, 19.27514}, {2449, 18.324331}, {13841, 17.748667}, {5564, 17.30121}, {21064, 17.05508}, {18987, 17.045221}, {9090, 16.979263}]  |\n",
      "|155          |[{22759, 24.767166}, {7539, 23.823277}, {21926, 23.46989}, {1501, 22.973566}, {3973, 21.839472}, {5684, 21.335575}, {2455, 20.939325}, {16892, 20.89574}, {8538, 20.841064}, {1520, 20.726274}]  |\n",
      "|183          |[{3973, 38.305355}, {3050, 37.81705}, {2017, 37.23531}, {1706, 35.574486}, {4371, 34.922905}, {3946, 34.17672}, {22759, 34.011127}, {1520, 33.141357}, {7622, 33.002506}, {2925, 32.710777}]     |\n",
      "|193          |[{5471, 32.93714}, {21629, 29.441502}, {8925, 29.172607}, {4053, 28.292362}, {8638, 28.171627}, {19217, 27.630009}, {3996, 27.607887}, {5441, 27.561514}, {1500, 27.487247}, {16296, 27.060932}] |\n",
      "|210          |[{22057, 77.67396}, {21914, 76.3719}, {8404, 68.467735}, {9086, 68.21109}, {21350, 66.71825}, {2017, 66.66304}, {9224, 64.92979}, {16282, 64.43003}, {21233, 64.31989}, {9426, 64.12101}]        |\n",
      "|211          |[{18843, 52.222027}, {21409, 52.103786}, {4000, 51.140076}, {2464, 50.564255}, {21327, 49.25019}, {21862, 49.243565}, {19225, 49.18791}, {9650, 48.311417}, {4105, 48.303932}, {9455, 47.99014}] |\n",
      "+-------------+-------------------------------------------------------------------------------------------------------------------------------------------------------------------------------------------------+\n",
      "only showing top 20 rows\n",
      "\n"
     ]
    }
   ],
   "source": [
    "# Lấy top-N gợi ý cho người dùng\n",
    "user_recs = model.recommendForAllUsers(numItems=10)\n",
    "user_recs.show(truncate=False)"
   ]
  }
 ],
 "metadata": {
  "kernelspec": {
   "display_name": "Python 3",
   "language": "python",
   "name": "python3"
  },
  "language_info": {
   "codemirror_mode": {
    "name": "ipython",
    "version": 3
   },
   "file_extension": ".py",
   "mimetype": "text/x-python",
   "name": "python",
   "nbconvert_exporter": "python",
   "pygments_lexer": "ipython3",
   "version": "3.10.11"
  }
 },
 "nbformat": 4,
 "nbformat_minor": 5
}
