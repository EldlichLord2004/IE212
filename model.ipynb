{
 "cells": [
  {
   "cell_type": "code",
   "execution_count": 1,
   "id": "1414be41",
   "metadata": {},
   "outputs": [],
   "source": [
    "import json\n",
    "import pandas as pd\n",
    "import findspark\n",
    "findspark.init()\n",
    "\n",
    "from pyspark.sql import SparkSession\n",
    "from pyspark.sql.functions import col, split, explode\n",
    "\n",
    "\n",
    "spark = SparkSession.builder.appName(\"ProcessingDataset\")\\\n",
    "    .config(\"spark.kryoserializer.buffer.max\", \"512m\") \\\n",
    "    .getOrCreate()\n",
    "spark.conf.set('spark.sql.caseSensitive', True)"
   ]
  },
  {
   "cell_type": "code",
   "execution_count": 2,
   "id": "d57dee29",
   "metadata": {},
   "outputs": [],
   "source": [
    "user_reviews= spark.read.parquet(\"Dataset/user_reviews.parquet\")"
   ]
  },
  {
   "cell_type": "code",
   "execution_count": 3,
   "id": "75ca11e2",
   "metadata": {},
   "outputs": [
    {
     "name": "stdout",
     "output_type": "stream",
     "text": [
      "+------------+--------------------------------------------------------+------+------------+----------------------------+----------+-----------+--------------------------------------------------------------------------------------------------------------------------------------------------------------------------------------------------------------------------------------------------------------------------------------------------------------------------------------------------------------------------------------------------------------------------------------------------------------------------------------------------------------------------------------------------------------------------------------------------------------------------------------------------------------------------------------------------------------------------------------------------------------------------------------------------------+-----------+------------+-----------------+-------------------+\n",
      "|review_id   |title                                                   |rating|rating_label|user_id                     |asin      |parent_asin|text                                                                                                                                                                                                                                                                                                                                                                                                                                                                                                                                                                                                                                                                                                                                                                                                    |text_length|helpful_vote|verified_purchase|datetime           |\n",
      "+------------+--------------------------------------------------------+------+------------+----------------------------+----------+-----------+--------------------------------------------------------------------------------------------------------------------------------------------------------------------------------------------------------------------------------------------------------------------------------------------------------------------------------------------------------------------------------------------------------------------------------------------------------------------------------------------------------------------------------------------------------------------------------------------------------------------------------------------------------------------------------------------------------------------------------------------------------------------------------------------------------+-----------+------------+-----------------+-------------------+\n",
      "|103079215104|Great game for those wanting historical info of Templars|5.0   |positive    |AHP4ABT4AOUOKHKXCUT3JCFU623A|B004H0J5QY|B004HD55V0 |Great game for those wanting to play historical period,no trolls ,dragons or wizzards,just plain medevil combat,with tasks for two Templar knights to perform to find the Holly-Grail ,I will not give out the plot since it has twists that are unexpected,but well worth the time to play ,will gain insight in to the Templars' history  ,The game is very easy to install since it is windows based and has great graphics,plus un-like other single shooter games you can switch between the two templars you want to play,Shame there is not a Templar II to countine the story line,but you will find many twists and turns in this game,unexpected,the story-line is well written,like an inter-active book Warning its hard to stop playing once you start the ,game time about 9 hours of play|776        |0           |true             |2014-04-21 00:58:24|\n",
      "|103079215105|Great value,for the amount of game that you get         |5.0   |positive    |AHP4ABT4AOUOKHKXCUT3JCFU623A|B00AR5BNYU|B00AR5BNYU |Great graphics,no problems with running the game,installs very easy,and can be up and playing in no time,You build yourself up in status,and gain favor of the king of your clan,thur warfare and favors which gives you more villages,giving you more wealth to buy better weapons and armor,and stepping up to marry,giving you a title and a path to the throne,so you have alot to keep you interested in going forward after each chapter is completed,the goal of the game is to become king,                                                                                                                                                                                                                                                                                                     |483        |1           |false            |2013-06-01 08:08:41|\n",
      "|103079215106|Do not waste the money or effort                        |1.0   |negative    |AHP4ABT4AOUOKHKXCUT3JCFU623A|B003MQMPD4|B003NE6BQW |I wish I could give a review of this game,nothing but muti= crashes,tried everything,updates,computer hardware checks,this is the only game that I have  this problem on my system,Do not waste the money or effort,there is no fix for the problem,do not fall for all you have to do is run an update,                                                                                                                                                                                                                                                                                                                                                                                                                                                                                                |296        |4           |true             |2012-01-19 09:11:03|\n",
      "|103079215107|If looking for a good WWI game this is it               |4.0   |positive    |AHP4ABT4AOUOKHKXCUT3JCFU623A|B003L77ZHK|B003L77ZHK |I have been looking for a good WWI game for a long time,this game is one of the best that I have found,very good 3D graphics,It is on the same game platform as CDV Blitzkrieg WWII games,Only draw back, slow controls,You have so many units in one game to control,at times its like herding cats,but in all its a good game to spend a day playing,for $9.99.as for the crash problems others had stated,I have had no problems                                                                                                                                                                                                                                                                                                                                                                     |419        |3           |true             |2012-01-14 07:48:46|\n",
      "|103079215108|Just what I needed                                      |5.0   |positive    |AEHINTI4PJFF3EQ7OL3Q2C3NYP7Q|B07TL5TKG9|B07WRDYD2N |Fit perfectly with my color theme of my Mac, and is very responsive.                                                                                                                                                                                                                                                                                                                                                                                                                                                                                                                                                                                                                                                                                                                                    |68         |0           |true             |2021-02-01 02:31:31|\n",
      "+------------+--------------------------------------------------------+------+------------+----------------------------+----------+-----------+--------------------------------------------------------------------------------------------------------------------------------------------------------------------------------------------------------------------------------------------------------------------------------------------------------------------------------------------------------------------------------------------------------------------------------------------------------------------------------------------------------------------------------------------------------------------------------------------------------------------------------------------------------------------------------------------------------------------------------------------------------------------------------------------------------+-----------+------------+-----------------+-------------------+\n",
      "only showing top 5 rows\n",
      "\n"
     ]
    }
   ],
   "source": [
    "user_reviews.show(5, False)"
   ]
  },
  {
   "cell_type": "code",
   "execution_count": 4,
   "id": "724e0488",
   "metadata": {},
   "outputs": [],
   "source": [
    "user_reviews_demo = user_reviews.limit(50000)"
   ]
  },
  {
   "cell_type": "code",
   "execution_count": 5,
   "id": "0bd97388",
   "metadata": {},
   "outputs": [
    {
     "name": "stdout",
     "output_type": "stream",
     "text": [
      "+------------+--------------------------------------------------------+------+------------+----------------------------+----------+-----------+--------------------------------------------------------------------------------------------------------------------------------------------------------------------------------------------------------------------------------------------------------------------------------------------------------------------------------------------------------------------------------------------------------------------------------------------------------------------------------------------------------------------------------------------------------------------------------------------------------------------------------------------------------------------------------------------------------------------------------------------------------------------------------------------------------+-----------+------------+-----------------+-------------------+\n",
      "|review_id   |title                                                   |rating|rating_label|user_id                     |asin      |parent_asin|text                                                                                                                                                                                                                                                                                                                                                                                                                                                                                                                                                                                                                                                                                                                                                                                                    |text_length|helpful_vote|verified_purchase|datetime           |\n",
      "+------------+--------------------------------------------------------+------+------------+----------------------------+----------+-----------+--------------------------------------------------------------------------------------------------------------------------------------------------------------------------------------------------------------------------------------------------------------------------------------------------------------------------------------------------------------------------------------------------------------------------------------------------------------------------------------------------------------------------------------------------------------------------------------------------------------------------------------------------------------------------------------------------------------------------------------------------------------------------------------------------------+-----------+------------+-----------------+-------------------+\n",
      "|103079215104|Great game for those wanting historical info of Templars|5.0   |positive    |AHP4ABT4AOUOKHKXCUT3JCFU623A|B004H0J5QY|B004HD55V0 |Great game for those wanting to play historical period,no trolls ,dragons or wizzards,just plain medevil combat,with tasks for two Templar knights to perform to find the Holly-Grail ,I will not give out the plot since it has twists that are unexpected,but well worth the time to play ,will gain insight in to the Templars' history  ,The game is very easy to install since it is windows based and has great graphics,plus un-like other single shooter games you can switch between the two templars you want to play,Shame there is not a Templar II to countine the story line,but you will find many twists and turns in this game,unexpected,the story-line is well written,like an inter-active book Warning its hard to stop playing once you start the ,game time about 9 hours of play|776        |0           |true             |2014-04-21 00:58:24|\n",
      "|103079215105|Great value,for the amount of game that you get         |5.0   |positive    |AHP4ABT4AOUOKHKXCUT3JCFU623A|B00AR5BNYU|B00AR5BNYU |Great graphics,no problems with running the game,installs very easy,and can be up and playing in no time,You build yourself up in status,and gain favor of the king of your clan,thur warfare and favors which gives you more villages,giving you more wealth to buy better weapons and armor,and stepping up to marry,giving you a title and a path to the throne,so you have alot to keep you interested in going forward after each chapter is completed,the goal of the game is to become king,                                                                                                                                                                                                                                                                                                     |483        |1           |false            |2013-06-01 08:08:41|\n",
      "|103079215106|Do not waste the money or effort                        |1.0   |negative    |AHP4ABT4AOUOKHKXCUT3JCFU623A|B003MQMPD4|B003NE6BQW |I wish I could give a review of this game,nothing but muti= crashes,tried everything,updates,computer hardware checks,this is the only game that I have  this problem on my system,Do not waste the money or effort,there is no fix for the problem,do not fall for all you have to do is run an update,                                                                                                                                                                                                                                                                                                                                                                                                                                                                                                |296        |4           |true             |2012-01-19 09:11:03|\n",
      "|103079215107|If looking for a good WWI game this is it               |4.0   |positive    |AHP4ABT4AOUOKHKXCUT3JCFU623A|B003L77ZHK|B003L77ZHK |I have been looking for a good WWI game for a long time,this game is one of the best that I have found,very good 3D graphics,It is on the same game platform as CDV Blitzkrieg WWII games,Only draw back, slow controls,You have so many units in one game to control,at times its like herding cats,but in all its a good game to spend a day playing,for $9.99.as for the crash problems others had stated,I have had no problems                                                                                                                                                                                                                                                                                                                                                                     |419        |3           |true             |2012-01-14 07:48:46|\n",
      "|103079215108|Just what I needed                                      |5.0   |positive    |AEHINTI4PJFF3EQ7OL3Q2C3NYP7Q|B07TL5TKG9|B07WRDYD2N |Fit perfectly with my color theme of my Mac, and is very responsive.                                                                                                                                                                                                                                                                                                                                                                                                                                                                                                                                                                                                                                                                                                                                    |68         |0           |true             |2021-02-01 02:31:31|\n",
      "+------------+--------------------------------------------------------+------+------------+----------------------------+----------+-----------+--------------------------------------------------------------------------------------------------------------------------------------------------------------------------------------------------------------------------------------------------------------------------------------------------------------------------------------------------------------------------------------------------------------------------------------------------------------------------------------------------------------------------------------------------------------------------------------------------------------------------------------------------------------------------------------------------------------------------------------------------------------------------------------------------------+-----------+------------+-----------------+-------------------+\n",
      "only showing top 5 rows\n",
      "\n"
     ]
    }
   ],
   "source": [
    "user_reviews_demo.show(5, False)"
   ]
  },
  {
   "cell_type": "code",
   "execution_count": 6,
   "id": "d90914fd",
   "metadata": {},
   "outputs": [
    {
     "name": "stdout",
     "output_type": "stream",
     "text": [
      "+-----------+--------------------------------------------------------------------------------------------------------------------------------------------------------------------------------------------------------+--------------+-------------+-------------------------+-------------------------------------------------------------------+-----+-----------+\n",
      "|parent_asin|title                                                                                                                                                                                                   |average_rating|rating_number|main_category            |categories                                                         |price|store      |\n",
      "+-----------+--------------------------------------------------------------------------------------------------------------------------------------------------------------------------------------------------------+--------------+-------------+-------------------------+-------------------------------------------------------------------+-----+-----------+\n",
      "|B08PNXK9RG |MASiKEN Head Strap for VR Oculus Quest 2, Accessories Head Strap fit Oculus 2 Official Carrying Case, Adjustable Headband Relieve Face Squeeze, Enhanced Support and Comfortable Touch (White, K3 Small)|4.4           |154          |Cell Phones & Accessories|[Video Games, PC, Virtual Reality, Headsets]                       |NULL |MASiKEN    |\n",
      "|B0B7P1DDFJ |Wireless Mouse, 2.4G Wireless Ergonomic Gaming Optical Mouse with 3 Adjustable DPI 800/1200 /1600, Portable Slim Silent USB Cordless Computer Mice for Desktop, Notebook, MacBook, Chromebook, PC(Pink) |1.0           |1            |All Electronics          |[Video Games, PC, Accessories, Gaming Mice]                        |NULL |Gabongcui  |\n",
      "|B011AUYCNY |LEGO Jurassic World for Xbox One                                                                                                                                                                        |4.7           |407          |Video Games              |[Video Games, Xbox One, Games]                                     |20.95|WARNER BROS|\n",
      "|B00006ANZ2 |Worms Triple Pack - PC                                                                                                                                                                                  |3.1           |15           |Video Games              |[Video Games, PC, Games]                                           |50.0 |Ubisoft    |\n",
      "|B01J4K4OBM |Fire Emblem Fates: Conquest - Nintendo 3DS by Nintendo                                                                                                                                                  |5.0           |7            |Video Games              |[Video Games, Legacy Systems, Nintendo Systems, Nintendo 3DS & 2DS]|62.99|Nintendo   |\n",
      "+-----------+--------------------------------------------------------------------------------------------------------------------------------------------------------------------------------------------------------+--------------+-------------+-------------------------+-------------------------------------------------------------------+-----+-----------+\n",
      "only showing top 5 rows\n",
      "\n"
     ]
    }
   ],
   "source": [
    "metadata=spark.read.parquet(\"Dataset/metadata.parquet\")\n",
    "metadata.show(5, False)"
   ]
  },
  {
   "cell_type": "code",
   "execution_count": 7,
   "id": "a2a156d9",
   "metadata": {},
   "outputs": [],
   "source": [
    "full_data = user_reviews_demo.join(metadata, user_reviews_demo.parent_asin == metadata.parent_asin, \"inner\")"
   ]
  },
  {
   "cell_type": "code",
   "execution_count": 8,
   "id": "a57dfa80",
   "metadata": {},
   "outputs": [
    {
     "name": "stdout",
     "output_type": "stream",
     "text": [
      "+------------+----------------------------------------+--------------------------------------------------------------------------------------------------------------------------------------------------------------------------------------------------------+------+--------------+-------------+----------+-----------+----------------------------+------------+---------------------------------------------------------------------+\n",
      "|review_id   |title                                   |product_title                                                                                                                                                                                           |rating|average_rating|rating_number|asin      |parent_asin|user_id                     |helpful_vote|categories                                                           |\n",
      "+------------+----------------------------------------+--------------------------------------------------------------------------------------------------------------------------------------------------------------------------------------------------------+------+--------------+-------------+----------+-----------+----------------------------+------------+---------------------------------------------------------------------+\n",
      "|103079220860|Great head-strap replacement for Quest 2|MASiKEN Head Strap for VR Oculus Quest 2, Accessories Head Strap fit Oculus 2 Official Carrying Case, Adjustable Headband Relieve Face Squeeze, Enhanced Support and Comfortable Touch (White, K3 Small)|3.0   |4.4           |154          |B08PNXK9RG|B08PNXK9RG |AEIE4ZK7L35ZZK37AQA6O6VXGBAA|0           |[Video Games, PC, Virtual Reality, Headsets]                         |\n",
      "|103079261921|Does what it says                       |Dust Filter Cover for Xbox Series X with Rubber Dust Plugs, Top Case Vent Dust Proof Filter Cover, Silicone Dust Plugs and Thump Grip Caps for Xbox Series X - 2 Pack Sets                              |5.0   |4.3           |1058         |B09L5M4XCQ|B09L5M4XCQ |AFW2LYXYGWF36MEJ7HSKDUDTKMRA|0           |[Video Games, Xbox Series X & S, Accessories, Cases & Storage, Cases]|\n",
      "|103079250871|Xbox accessories                        |Dust Filter Cover for Xbox Series X with Rubber Dust Plugs, Top Case Vent Dust Proof Filter Cover, Silicone Dust Plugs and Thump Grip Caps for Xbox Series X - 2 Pack Sets                              |4.0   |4.3           |1058         |B09L5M4XCQ|B09L5M4XCQ |AGR6I23F44M7STRHJFKQGC3GD47A|0           |[Video Games, Xbox Series X & S, Accessories, Cases & Storage, Cases]|\n",
      "|103079231825|Three Stars                             |ドラゴンクエストヒーローズII　双子の王と予言の終わり【初回購入特典】「ドラゴンクエストI」勇者コスチューム +「元気玉」+「ドラゴンクエストビルダーズ」で使える「ホミロンの像のレシピ」同梱                |3.0   |4.0           |485          |B01C2GW200|B01C2GW200 |AFGKU2DVCHDHSRI2ANE5Q3GCTAAA|0           |[Video Games, PlayStation 4, Games]                                  |\n",
      "|103079253236|Buy this Game!                          |We Wish You A Merry Christmas - Nintendo Wii                                                                                                                                                            |5.0   |4.4           |58           |B002PK7HXQ|B002PK7HXQ |AHW5XAMC2J2J47GN6XDSXIRXPAZA|4           |[Video Games, Legacy Systems, Nintendo Systems, Wii, Games]          |\n",
      "+------------+----------------------------------------+--------------------------------------------------------------------------------------------------------------------------------------------------------------------------------------------------------+------+--------------+-------------+----------+-----------+----------------------------+------------+---------------------------------------------------------------------+\n",
      "only showing top 5 rows\n",
      "\n"
     ]
    }
   ],
   "source": [
    "full_data_filter = full_data.select(\n",
    "\t\"review_id\",\n",
    "\tuser_reviews_demo[\"title\"].alias(\"title\"),\n",
    "\tmetadata[\"title\"].alias(\"product_title\"),\n",
    "\t\"rating\",\n",
    "\t\"average_rating\",\n",
    "\t\"rating_number\",\n",
    "\tuser_reviews_demo[\"asin\"].alias(\"asin\"),\n",
    "\tmetadata[\"parent_asin\"].alias(\"parent_asin\"),\n",
    "\t\"user_id\",\n",
    "\t\"helpful_vote\",\n",
    "\t\"categories\"\n",
    ")\n",
    "full_data_filter.show(5, False)"
   ]
  },
  {
   "cell_type": "code",
   "execution_count": 9,
   "id": "2937482a",
   "metadata": {},
   "outputs": [
    {
     "name": "stdout",
     "output_type": "stream",
     "text": [
      "root\n",
      " |-- review_id: long (nullable = true)\n",
      " |-- title: string (nullable = true)\n",
      " |-- product_title: string (nullable = true)\n",
      " |-- rating: double (nullable = true)\n",
      " |-- average_rating: double (nullable = true)\n",
      " |-- rating_number: long (nullable = true)\n",
      " |-- asin: string (nullable = true)\n",
      " |-- parent_asin: string (nullable = true)\n",
      " |-- user_id: string (nullable = true)\n",
      " |-- helpful_vote: long (nullable = true)\n",
      " |-- categories: array (nullable = true)\n",
      " |    |-- element: string (containsNull = true)\n",
      "\n"
     ]
    }
   ],
   "source": [
    "full_data_filter.printSchema()"
   ]
  },
  {
   "cell_type": "markdown",
   "id": "e6a21c24",
   "metadata": {},
   "source": [
    "## Simple recommendation model\n"
   ]
  },
  {
   "cell_type": "code",
   "execution_count": 10,
   "id": "9b0384f5",
   "metadata": {},
   "outputs": [
    {
     "name": "stdout",
     "output_type": "stream",
     "text": [
      "RMSE = 1.2309190488855302\n"
     ]
    }
   ],
   "source": [
    "from pyspark.sql import functions as F\n",
    "from pyspark.ml.feature import Tokenizer, StopWordsRemover, Word2Vec, VectorAssembler, StringIndexer\n",
    "from pyspark.ml.regression import GBTRegressor\n",
    "from pyspark.ml.evaluation import RegressionEvaluator\n",
    "from pyspark.ml.tuning import ParamGridBuilder, CrossValidator\n",
    "from pyspark.ml import Pipeline\n",
    "\n",
    "# 1. Tiền xử lý dữ liệu\n",
    "cleaned_data = full_data_filter.filter(\n",
    "    (col(\"rating\").isNotNull()) &\n",
    "    (col(\"user_id\").isNotNull()) &\n",
    "    (col(\"asin\").isNotNull())\n",
    ")\n",
    "\n",
    "# 2. Xử lý văn bản\n",
    "tokenizer = Tokenizer(inputCol=\"title\", outputCol=\"words\")\n",
    "remover = StopWordsRemover(inputCol=\"words\", outputCol=\"filtered_words\")\n",
    "word2vec = Word2Vec(vectorSize=100, minCount=5, inputCol=\"filtered_words\", outputCol=\"title_vector\")\n",
    "\n",
    "# 3. Mã hóa user_id và asin\n",
    "user_indexer = StringIndexer(inputCol=\"user_id\", outputCol=\"user_index\")\n",
    "item_indexer = StringIndexer(inputCol=\"asin\", outputCol=\"item_index\")\n",
    "\n",
    "# 4. Kết hợp các đặc trưng\n",
    "assembler = VectorAssembler(\n",
    "    inputCols=[\"title_vector\", \"rating_number\", \"helpful_vote\"],\n",
    "    outputCol=\"features\"\n",
    ")\n",
    "\n",
    "# 5. Chuẩn bị dữ liệu\n",
    "pipeline = Pipeline(stages=[\n",
    "    tokenizer,\n",
    "    remover,\n",
    "    word2vec,\n",
    "    user_indexer,\n",
    "    item_indexer,\n",
    "    assembler\n",
    "])\n",
    "processed_data = pipeline.fit(cleaned_data).transform(cleaned_data)\n",
    "\n",
    "# 6. Chia tập train/test\n",
    "(train, test) = processed_data.randomSplit([0.8, 0.2])\n",
    "\n",
    "# 7. Xây dựng mô hình\n",
    "gbt = GBTRegressor(featuresCol=\"features\", labelCol=\"rating\", maxIter=10)\n",
    "model = gbt.fit(train)\n",
    "\n",
    "# 8. Dự đoán và đánh giá\n",
    "predictions = model.transform(test)\n",
    "evaluator = RegressionEvaluator(labelCol=\"rating\", predictionCol=\"prediction\", metricName=\"rmse\")\n",
    "print(f\"RMSE = {evaluator.evaluate(predictions)}\")"
   ]
  },
  {
   "cell_type": "code",
   "execution_count": 11,
   "id": "d397dba3",
   "metadata": {},
   "outputs": [
    {
     "name": "stdout",
     "output_type": "stream",
     "text": [
      "+--------------------+----------+------+------------------+\n",
      "|             user_id|      asin|rating|        prediction|\n",
      "+--------------------+----------+------+------------------+\n",
      "|AFM7AIBN4HWKS5AGW...|B07GHWHFR5|   5.0| 4.990097059163044|\n",
      "|AHWN2QPRGWKGU4LQJ...|B0038MTE7C|   4.0|3.5108793489073546|\n",
      "|AHUJDDNT2Q2W6UCQI...|B0788L9WJ1|   5.0|  4.79146265093197|\n",
      "|AEKUB3IPTTU6XZIEK...|B08XB5QX5M|   2.0| 4.576241042385885|\n",
      "|AFPNUS6ZEVBGIJVTQ...|B0056JPS84|   1.0| 4.016090537623408|\n",
      "|AF7MBS6TESBWUHHGJ...|B01A8HWLWE|   5.0|3.5307112337387627|\n",
      "|AGECWTU7YASGQPDS4...|B077WYPYC7|   5.0| 4.286001595668527|\n",
      "|AH45BPEN63SXGJJVK...|B00HZWEB74|   5.0| 4.062079699336152|\n",
      "|AFM7J3OCFMHI4V23S...|B07RCXNW3K|   1.0|3.7774125824062867|\n",
      "|AE2ZIKSCUNJIB7HEX...|B07XHMFCJ2|   2.0|3.6240134159474686|\n",
      "+--------------------+----------+------+------------------+\n",
      "only showing top 10 rows\n",
      "\n"
     ]
    }
   ],
   "source": [
    "# Hiển thị 10 dòng đầu tiên của DataFrame predictions\n",
    "predictions.select(\"user_id\", \"asin\", \"rating\", \"prediction\").show(10)"
   ]
  },
  {
   "cell_type": "markdown",
   "id": "54f109e8",
   "metadata": {},
   "source": [
    "## Another model\n"
   ]
  },
  {
   "cell_type": "code",
   "execution_count": 12,
   "id": "4936f6d2",
   "metadata": {},
   "outputs": [],
   "source": [
    "from pyspark.sql.window import Window\n",
    "\n",
    "window_spec = Window.partitionBy(\"asin\")\n",
    "data_with_label = full_data_filter.withColumn(\n",
    "    \"label\", F.avg(\"rating\").over(window_spec)\n",
    ")"
   ]
  },
  {
   "cell_type": "code",
   "execution_count": 13,
   "id": "b33e0413",
   "metadata": {},
   "outputs": [],
   "source": [
    "cleaned_data = data_with_label.dropna(subset=[\"asin\", \"title\", \"label\",\"product_title\"])"
   ]
  },
  {
   "cell_type": "code",
   "execution_count": 14,
   "id": "96be6b34",
   "metadata": {},
   "outputs": [],
   "source": [
    "from pyspark.ml.feature import Tokenizer, StopWordsRemover\n",
    "\n",
    "tokenizer = Tokenizer(inputCol=\"title\", outputCol=\"words\")\n",
    "words_df = tokenizer.transform(cleaned_data)\n",
    "\n",
    "remover = StopWordsRemover(inputCol=\"words\", outputCol=\"filtered_words\")\n",
    "filtered_df = remover.transform(words_df)"
   ]
  },
  {
   "cell_type": "code",
   "execution_count": 15,
   "id": "3f577e4e",
   "metadata": {},
   "outputs": [],
   "source": [
    "from pyspark.ml.feature import Word2Vec\n",
    "\n",
    "word2vec = Word2Vec(vectorSize=100, inputCol=\"filtered_words\", outputCol=\"title_vector\")\n",
    "w2v_model = word2vec.fit(filtered_df)\n",
    "title_vectors_df = w2v_model.transform(filtered_df)"
   ]
  },
  {
   "cell_type": "code",
   "execution_count": 16,
   "id": "345463c8",
   "metadata": {},
   "outputs": [],
   "source": [
    "from pyspark.ml.feature import StringIndexer\n",
    "\n",
    "asin_indexer = StringIndexer(inputCol=\"asin\", outputCol=\"asin_index\", handleInvalid=\"keep\")\n",
    "indexed_df = asin_indexer.fit(title_vectors_df).transform(title_vectors_df)"
   ]
  },
  {
   "cell_type": "code",
   "execution_count": 17,
   "id": "945a3cb8",
   "metadata": {},
   "outputs": [],
   "source": [
    "from pyspark.ml.feature import VectorAssembler\n",
    "\n",
    "assembler = VectorAssembler(\n",
    "    inputCols=[\"asin_index\", \"title_vector\"],\n",
    "    outputCol=\"features\"\n",
    ")\n",
    "final_df = assembler.transform(indexed_df).select(\"features\", \"label\", \"asin\")"
   ]
  },
  {
   "cell_type": "code",
   "execution_count": 18,
   "id": "9ca81d72",
   "metadata": {},
   "outputs": [],
   "source": [
    "train_df, test_df = final_df.randomSplit([0.8, 0.2], seed=42)"
   ]
  },
  {
   "cell_type": "code",
   "execution_count": 19,
   "id": "650f2d45",
   "metadata": {},
   "outputs": [],
   "source": [
    "# Re-assemble features to exclude asin_index (categorical with too many values)\n",
    "assembler = VectorAssembler(\n",
    "\tinputCols=[\"title_vector\"],\n",
    "\toutputCol=\"features\"\n",
    ")\n",
    "final_df_no_cat = assembler.transform(title_vectors_df).select(\"features\", \"label\", \"asin\")\n",
    "\n",
    "# Split again for training/testing\n",
    "train_df_no_cat, test_df_no_cat = final_df_no_cat.randomSplit([0.8, 0.2], seed=42)\n",
    "\n",
    "gbt = GBTRegressor(featuresCol=\"features\", labelCol=\"label\", maxIter=10)\n",
    "model = gbt.fit(train_df_no_cat)"
   ]
  },
  {
   "cell_type": "code",
   "execution_count": 20,
   "id": "4d875456",
   "metadata": {},
   "outputs": [
    {
     "name": "stdout",
     "output_type": "stream",
     "text": [
      "RMSE = 1.3813362763468389\n"
     ]
    }
   ],
   "source": [
    "predictions = model.transform(test_df)\n",
    "\n",
    "# Đánh giá bằng RMSE\n",
    "from pyspark.ml.evaluation import RegressionEvaluator\n",
    "\n",
    "evaluator = RegressionEvaluator(labelCol=\"label\", predictionCol=\"prediction\", metricName=\"rmse\")\n",
    "rmse = evaluator.evaluate(predictions)\n",
    "print(f\"RMSE = {rmse}\")"
   ]
  },
  {
   "cell_type": "code",
   "execution_count": 24,
   "id": "2e32e9c6",
   "metadata": {},
   "outputs": [
    {
     "name": "stdout",
     "output_type": "stream",
     "text": [
      "+----------+--------------------+------------------+--------------+\n",
      "|      asin|       product_title|        prediction|average_rating|\n",
      "+----------+--------------------+------------------+--------------+\n",
      "|B0136JP9OS|Xbox One 1TB Cons...| 3.747078295604036|           4.5|\n",
      "|B00886WO7A|Dead Island Ripti...| 3.747078295604036|           4.1|\n",
      "|B012DFI02O|VersionTECH. G200...| 3.666605169849606|           4.2|\n",
      "|B012DFI02O|VersionTECH. G200...| 3.666605169849606|           4.2|\n",
      "|B012DFI02O|VersionTECH. G200...|3.2628304737308027|           4.2|\n",
      "|B012DFI02O|VersionTECH. G200...| 2.737113415400969|           4.2|\n",
      "|B012DFI02O|VersionTECH. G200...|2.8748260123482363|           4.2|\n",
      "|B012DFI02O|VersionTECH. G200...|2.6346214253974325|           4.2|\n",
      "|B012DFI02O|VersionTECH. G200...| 2.653466897508133|           4.2|\n",
      "|B012DFI02O|VersionTECH. G200...|3.3315377277625386|           4.2|\n",
      "+----------+--------------------+------------------+--------------+\n",
      "only showing top 10 rows\n",
      "\n"
     ]
    }
   ],
   "source": [
    "# Giữ lại average_rating và title gốc từ dữ liệu ban đầu\n",
    "test_with_avg = predictions.join(\n",
    "    cleaned_data.select(\"asin\", \"average_rating\", \"product_title\").dropDuplicates([\"asin\"]),\n",
    "    on=\"asin\",\n",
    "    how=\"inner\"\n",
    ")\n",
    "\n",
    "# Hiển thị kết quả\n",
    "test_with_avg.select(\"asin\", \"product_title\", \"prediction\", \"average_rating\").show(10)"
   ]
  },
  {
   "cell_type": "code",
   "execution_count": 22,
   "id": "f38fa154",
   "metadata": {},
   "outputs": [
    {
     "name": "stdout",
     "output_type": "stream",
     "text": [
      "root\n",
      " |-- parent_asin: string (nullable = true)\n",
      " |-- title: string (nullable = true)\n",
      " |-- average_rating: double (nullable = true)\n",
      " |-- rating_number: long (nullable = true)\n",
      " |-- main_category: string (nullable = true)\n",
      " |-- categories: array (nullable = true)\n",
      " |    |-- element: string (containsNull = true)\n",
      " |-- price: string (nullable = true)\n",
      " |-- store: string (nullable = true)\n",
      "\n"
     ]
    }
   ],
   "source": [
    "metadata.printSchema()"
   ]
  },
  {
   "cell_type": "code",
   "execution_count": 23,
   "id": "55e69309",
   "metadata": {},
   "outputs": [
    {
     "name": "stdout",
     "output_type": "stream",
     "text": [
      "Dự đoán rating cho B004HD55V0: 4.1005248275288615\n"
     ]
    }
   ],
   "source": [
    "# Fit the asin_indexer if not already fitted (use title_vectors_df as in cell 17)\n",
    "asin_indexer_model = asin_indexer.fit(title_vectors_df)\n",
    "\n",
    "def predict_rating(asin_input):\n",
    "    # Lấy title từ metadata\n",
    "    title_row = metadata.filter(metadata.parent_asin == asin_input).select(\"title\").first()\n",
    "    if title_row is None:\n",
    "        raise ValueError(f\"ASIN {asin_input} not found in metadata.\")\n",
    "    title = title_row[\"title\"]\n",
    "    # Tạo DataFrame với asin và title\n",
    "    df = spark.createDataFrame([(asin_input, title)], [\"parent_asin\", \"title\"])\n",
    "    df = asin_indexer_model.transform(df)\n",
    "    df = tokenizer.transform(df)\n",
    "    df = remover.transform(df)\n",
    "    df = w2v_model.transform(df)\n",
    "    df = assembler.transform(df)\n",
    "    result = model.transform(df)\n",
    "    return result.select(\"prediction\").first()[0]\n",
    "\n",
    "# Dùng thử\n",
    "predicted_rating = predict_rating(\"B004HD55V0\")\n",
    "print(f\"Dự đoán rating cho B004HD55V0: {predicted_rating}\")"
   ]
  }
 ],
 "metadata": {
  "kernelspec": {
   "display_name": "Python 3",
   "language": "python",
   "name": "python3"
  },
  "language_info": {
   "codemirror_mode": {
    "name": "ipython",
    "version": 3
   },
   "file_extension": ".py",
   "mimetype": "text/x-python",
   "name": "python",
   "nbconvert_exporter": "python",
   "pygments_lexer": "ipython3",
   "version": "3.10.11"
  }
 },
 "nbformat": 4,
 "nbformat_minor": 5
}
