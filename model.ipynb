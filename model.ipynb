{
 "cells": [
  {
   "cell_type": "code",
   "execution_count": 2,
   "id": "1414be41",
   "metadata": {},
   "outputs": [],
   "source": [
    "import findspark\n",
    "findspark.init()\n",
    "\n",
    "from pyspark.sql import SparkSession\n",
    "from pyspark.sql.functions import col, split, explode\n",
    "\n",
    "\n",
    "# Create a new optimized Spark session\n",
    "spark = SparkSession.builder.appName(\"Model\") \\\n",
    "    .config(\"spark.driver.memory\", \"4g\") \\\n",
    "    .config(\"spark.executor.memory\", \"4g\") \\\n",
    "    .config(\"spark.memory.offHeap.enabled\", \"true\") \\\n",
    "    .config(\"spark.memory.offHeap.size\", \"2g\") \\\n",
    "    .config(\"spark.sql.shuffle.partitions\", \"20\") \\\n",
    "    .config(\"spark.default.parallelism\", \"20\") \\\n",
    "    .config(\"spark.kryoserializer.buffer.max\", \"512m\") \\\n",
    "    .getOrCreate()\n",
    "\n",
    "spark.conf.set('spark.sql.caseSensitive', True)"
   ]
  },
  {
   "cell_type": "code",
   "execution_count": 3,
   "id": "d57dee29",
   "metadata": {},
   "outputs": [],
   "source": [
    "user_reviews= spark.read.parquet(\"Dataset/user_reviews.parquet\")"
   ]
  },
  {
   "cell_type": "code",
   "execution_count": 4,
   "id": "75ca11e2",
   "metadata": {},
   "outputs": [
    {
     "name": "stdout",
     "output_type": "stream",
     "text": [
      "+------------+--------------------------------------------------------+------+------------+----------------------------+----------+-----------+--------------------------------------------------------------------------------------------------------------------------------------------------------------------------------------------------------------------------------------------------------------------------------------------------------------------------------------------------------------------------------------------------------------------------------------------------------------------------------------------------------------------------------------------------------------------------------------------------------------------------------------------------------------------------------------------------------------------------------------------------------------------------------------------------------+-----------+------------+-----------------+-------------------+\n",
      "|review_id   |title                                                   |rating|rating_label|user_id                     |asin      |parent_asin|text                                                                                                                                                                                                                                                                                                                                                                                                                                                                                                                                                                                                                                                                                                                                                                                                    |text_length|helpful_vote|verified_purchase|datetime           |\n",
      "+------------+--------------------------------------------------------+------+------------+----------------------------+----------+-----------+--------------------------------------------------------------------------------------------------------------------------------------------------------------------------------------------------------------------------------------------------------------------------------------------------------------------------------------------------------------------------------------------------------------------------------------------------------------------------------------------------------------------------------------------------------------------------------------------------------------------------------------------------------------------------------------------------------------------------------------------------------------------------------------------------------+-----------+------------+-----------------+-------------------+\n",
      "|103079215104|Great game for those wanting historical info of Templars|5.0   |positive    |AHP4ABT4AOUOKHKXCUT3JCFU623A|B004H0J5QY|B004HD55V0 |Great game for those wanting to play historical period,no trolls ,dragons or wizzards,just plain medevil combat,with tasks for two Templar knights to perform to find the Holly-Grail ,I will not give out the plot since it has twists that are unexpected,but well worth the time to play ,will gain insight in to the Templars' history  ,The game is very easy to install since it is windows based and has great graphics,plus un-like other single shooter games you can switch between the two templars you want to play,Shame there is not a Templar II to countine the story line,but you will find many twists and turns in this game,unexpected,the story-line is well written,like an inter-active book Warning its hard to stop playing once you start the ,game time about 9 hours of play|776        |0           |true             |2014-04-21 00:58:24|\n",
      "|103079215105|Great value,for the amount of game that you get         |5.0   |positive    |AHP4ABT4AOUOKHKXCUT3JCFU623A|B00AR5BNYU|B00AR5BNYU |Great graphics,no problems with running the game,installs very easy,and can be up and playing in no time,You build yourself up in status,and gain favor of the king of your clan,thur warfare and favors which gives you more villages,giving you more wealth to buy better weapons and armor,and stepping up to marry,giving you a title and a path to the throne,so you have alot to keep you interested in going forward after each chapter is completed,the goal of the game is to become king,                                                                                                                                                                                                                                                                                                     |483        |1           |false            |2013-06-01 08:08:41|\n",
      "|103079215106|Do not waste the money or effort                        |1.0   |negative    |AHP4ABT4AOUOKHKXCUT3JCFU623A|B003MQMPD4|B003NE6BQW |I wish I could give a review of this game,nothing but muti= crashes,tried everything,updates,computer hardware checks,this is the only game that I have  this problem on my system,Do not waste the money or effort,there is no fix for the problem,do not fall for all you have to do is run an update,                                                                                                                                                                                                                                                                                                                                                                                                                                                                                                |296        |4           |true             |2012-01-19 09:11:03|\n",
      "|103079215107|If looking for a good WWI game this is it               |4.0   |positive    |AHP4ABT4AOUOKHKXCUT3JCFU623A|B003L77ZHK|B003L77ZHK |I have been looking for a good WWI game for a long time,this game is one of the best that I have found,very good 3D graphics,It is on the same game platform as CDV Blitzkrieg WWII games,Only draw back, slow controls,You have so many units in one game to control,at times its like herding cats,but in all its a good game to spend a day playing,for $9.99.as for the crash problems others had stated,I have had no problems                                                                                                                                                                                                                                                                                                                                                                     |419        |3           |true             |2012-01-14 07:48:46|\n",
      "|103079215108|Just what I needed                                      |5.0   |positive    |AEHINTI4PJFF3EQ7OL3Q2C3NYP7Q|B07TL5TKG9|B07WRDYD2N |Fit perfectly with my color theme of my Mac, and is very responsive.                                                                                                                                                                                                                                                                                                                                                                                                                                                                                                                                                                                                                                                                                                                                    |68         |0           |true             |2021-02-01 02:31:31|\n",
      "+------------+--------------------------------------------------------+------+------------+----------------------------+----------+-----------+--------------------------------------------------------------------------------------------------------------------------------------------------------------------------------------------------------------------------------------------------------------------------------------------------------------------------------------------------------------------------------------------------------------------------------------------------------------------------------------------------------------------------------------------------------------------------------------------------------------------------------------------------------------------------------------------------------------------------------------------------------------------------------------------------------+-----------+------------+-----------------+-------------------+\n",
      "only showing top 5 rows\n",
      "\n"
     ]
    }
   ],
   "source": [
    "user_reviews.show(5, False)"
   ]
  },
  {
   "cell_type": "code",
   "execution_count": 5,
   "id": "724e0488",
   "metadata": {},
   "outputs": [],
   "source": [
    "user_reviews_demo = user_reviews.limit(10000)"
   ]
  },
  {
   "cell_type": "code",
   "execution_count": 6,
   "id": "0bd97388",
   "metadata": {},
   "outputs": [
    {
     "data": {
      "text/plain": [
       "[('review_id', 'bigint'),\n",
       " ('title', 'string'),\n",
       " ('rating', 'double'),\n",
       " ('rating_label', 'string'),\n",
       " ('user_id', 'string'),\n",
       " ('asin', 'string'),\n",
       " ('parent_asin', 'string'),\n",
       " ('text', 'string'),\n",
       " ('text_length', 'int'),\n",
       " ('helpful_vote', 'bigint'),\n",
       " ('verified_purchase', 'boolean'),\n",
       " ('datetime', 'string')]"
      ]
     },
     "execution_count": 6,
     "metadata": {},
     "output_type": "execute_result"
    }
   ],
   "source": [
    "user_reviews_demo.dtypes"
   ]
  },
  {
   "cell_type": "code",
   "execution_count": 7,
   "id": "d90914fd",
   "metadata": {},
   "outputs": [
    {
     "name": "stdout",
     "output_type": "stream",
     "text": [
      "+-----------+--------------------------------------------------------------------------------------------------------------------------------------------------------------------------------------------------------+--------------+-------------+-------------------------+-------------------------------------------------------------------+-----+-----------+\n",
      "|parent_asin|title                                                                                                                                                                                                   |average_rating|rating_number|main_category            |categories                                                         |price|store      |\n",
      "+-----------+--------------------------------------------------------------------------------------------------------------------------------------------------------------------------------------------------------+--------------+-------------+-------------------------+-------------------------------------------------------------------+-----+-----------+\n",
      "|B08PNXK9RG |MASiKEN Head Strap for VR Oculus Quest 2, Accessories Head Strap fit Oculus 2 Official Carrying Case, Adjustable Headband Relieve Face Squeeze, Enhanced Support and Comfortable Touch (White, K3 Small)|4.4           |154          |Cell Phones & Accessories|[Video Games, PC, Virtual Reality, Headsets]                       |NULL |MASiKEN    |\n",
      "|B0B7P1DDFJ |Wireless Mouse, 2.4G Wireless Ergonomic Gaming Optical Mouse with 3 Adjustable DPI 800/1200 /1600, Portable Slim Silent USB Cordless Computer Mice for Desktop, Notebook, MacBook, Chromebook, PC(Pink) |1.0           |1            |All Electronics          |[Video Games, PC, Accessories, Gaming Mice]                        |NULL |Gabongcui  |\n",
      "|B011AUYCNY |LEGO Jurassic World for Xbox One                                                                                                                                                                        |4.7           |407          |Video Games              |[Video Games, Xbox One, Games]                                     |20.95|WARNER BROS|\n",
      "|B00006ANZ2 |Worms Triple Pack - PC                                                                                                                                                                                  |3.1           |15           |Video Games              |[Video Games, PC, Games]                                           |50.0 |Ubisoft    |\n",
      "|B01J4K4OBM |Fire Emblem Fates: Conquest - Nintendo 3DS by Nintendo                                                                                                                                                  |5.0           |7            |Video Games              |[Video Games, Legacy Systems, Nintendo Systems, Nintendo 3DS & 2DS]|62.99|Nintendo   |\n",
      "+-----------+--------------------------------------------------------------------------------------------------------------------------------------------------------------------------------------------------------+--------------+-------------+-------------------------+-------------------------------------------------------------------+-----+-----------+\n",
      "only showing top 5 rows\n",
      "\n"
     ]
    }
   ],
   "source": [
    "metadata=spark.read.parquet(\"Dataset/metadata.parquet\")\n",
    "metadata.show(5, False)"
   ]
  },
  {
   "cell_type": "code",
   "execution_count": 8,
   "id": "a2a156d9",
   "metadata": {},
   "outputs": [],
   "source": [
    "complete_df = user_reviews_demo.join(metadata, user_reviews_demo.parent_asin == metadata.parent_asin, \"inner\")"
   ]
  },
  {
   "cell_type": "code",
   "execution_count": 10,
   "id": "a57dfa80",
   "metadata": {},
   "outputs": [],
   "source": [
    "hybrid_df = complete_df.select(\n",
    "    user_reviews_demo[\"review_id\"],\n",
    "    user_reviews_demo[\"title\"].alias(\"review_title\"),\n",
    "    metadata[\"title\"].alias(\"product_title\"),\n",
    "    user_reviews_demo[\"rating\"],\n",
    "    metadata[\"average_rating\"],\n",
    "    metadata[\"rating_number\"],\n",
    "    user_reviews_demo[\"asin\"].alias(\"item_id\"),\n",
    "    metadata[\"parent_asin\"],\n",
    "    user_reviews_demo[\"user_id\"],\n",
    "    user_reviews_demo[\"helpful_vote\"],\n",
    "    metadata[\"categories\"],\n",
    "    user_reviews_demo[\"text\"].alias(\"review_text\"),\n",
    "    user_reviews_demo[\"rating_label\"]\n",
    ")"
   ]
  },
  {
   "cell_type": "code",
   "execution_count": 11,
   "id": "2937482a",
   "metadata": {},
   "outputs": [
    {
     "name": "stdout",
     "output_type": "stream",
     "text": [
      "root\n",
      " |-- review_id: long (nullable = true)\n",
      " |-- review_title: string (nullable = true)\n",
      " |-- product_title: string (nullable = true)\n",
      " |-- rating: double (nullable = true)\n",
      " |-- average_rating: double (nullable = true)\n",
      " |-- rating_number: long (nullable = true)\n",
      " |-- item_id: string (nullable = true)\n",
      " |-- parent_asin: string (nullable = true)\n",
      " |-- user_id: string (nullable = true)\n",
      " |-- helpful_vote: long (nullable = true)\n",
      " |-- categories: array (nullable = true)\n",
      " |    |-- element: string (containsNull = true)\n",
      " |-- review_text: string (nullable = true)\n",
      " |-- rating_label: string (nullable = true)\n",
      "\n"
     ]
    }
   ],
   "source": [
    "hybrid_df.printSchema()"
   ]
  },
  {
   "cell_type": "markdown",
   "id": "e6a21c24",
   "metadata": {},
   "source": [
    "## Recommendation model\n"
   ]
  },
  {
   "cell_type": "code",
   "execution_count": 16,
   "id": "96535b24",
   "metadata": {},
   "outputs": [],
   "source": [
    "from pyspark.ml import Pipeline\n",
    "from pyspark.ml.feature import StringIndexer, CountVectorizer, HashingTF, IDF, Tokenizer, StopWordsRemover, Word2Vec\n",
    "from pyspark.ml.recommendation import ALS\n",
    "from pyspark.ml.evaluation import RegressionEvaluator, BinaryClassificationEvaluator\n",
    "from pyspark.ml.classification import LogisticRegression, RandomForestClassifier\n",
    "from pyspark.ml.clustering import KMeans\n",
    "from pyspark.sql.functions import col, udf, explode, array_join, concat, lit, when, regexp_replace, collect_list\n",
    "from pyspark.sql.types import FloatType, ArrayType, StringType, DoubleType\n",
    "from pyspark.ml.linalg import Vectors, VectorUDT, DenseVector\n",
    "from pyspark.ml.tuning import CrossValidator, ParamGridBuilder\n",
    "\n"
   ]
  },
  {
   "cell_type": "code",
   "execution_count": 13,
   "id": "569a0dee",
   "metadata": {},
   "outputs": [],
   "source": [
    "# Simplified hybrid model with lower memory footprint\n",
    "def build_hybrid_recommender(user_reviews_df, metadata_df, sample_size=10000):\n",
    "    # 1. Sample data to reduce memory requirements\n",
    "    reviews_sample = user_reviews_df.limit(sample_size)\n",
    "    \n",
    "    # 2. Join data more efficiently - select only necessary columns first\n",
    "    reviews_sample = reviews_sample.select(\n",
    "        \"review_id\", \"user_id\", \"asin\", \"parent_asin\", \"rating\", \n",
    "        \"title\", \"text\", \"rating_label\"\n",
    "    )\n",
    "    \n",
    "    metadata_sample = metadata_df.select(\n",
    "        \"parent_asin\", \"title\", \"average_rating\", \"rating_number\", \"categories\"\n",
    "    )\n",
    "    \n",
    "    # Join with broadcast to optimize memory\n",
    "    from pyspark.sql.functions import broadcast\n",
    "    complete_df = reviews_sample.join(\n",
    "        broadcast(metadata_sample), \n",
    "        reviews_sample.parent_asin == metadata_sample.parent_asin,\n",
    "        \"inner\"\n",
    "    )\n",
    "    \n",
    "    # 3. Simple sentiment analysis based on existing rating_label\n",
    "    # Instead of building a complex model, use the existing rating_label\n",
    "    from pyspark.sql.functions import when\n",
    "    sentiment_df = complete_df.withColumn(\n",
    "        \"sentiment_score\", \n",
    "        when(col(\"rating_label\") == \"positive\", 1.0)\n",
    "        .when(col(\"rating_label\") == \"negative\", 0.0)\n",
    "        .otherwise(0.5)\n",
    "    )\n",
    "    \n",
    "    # 4. Basic content-based features from categories\n",
    "    # Extract category features without tokenization\n",
    "    from pyspark.sql.functions import explode, collect_set\n",
    "    category_df = sentiment_df.select(\n",
    "        \"asin\", explode(\"categories\").alias(\"category\")\n",
    "    ).groupBy(\"asin\").agg(\n",
    "        collect_set(\"category\").alias(\"category_features\")\n",
    "    )\n",
    "    \n",
    "    # 5. Simplified collaborative filtering\n",
    "    # Prepare data with fewer transformations\n",
    "    user_indexer = StringIndexer(inputCol=\"user_id\", outputCol=\"user_index\", handleInvalid=\"skip\")\n",
    "    item_indexer = StringIndexer(inputCol=\"asin\", outputCol=\"item_index\", handleInvalid=\"skip\")\n",
    "    \n",
    "    rating_data = sentiment_df.select(\"user_id\", \"asin\", \"rating\")\n",
    "    rating_data = user_indexer.fit(rating_data).transform(rating_data)\n",
    "    rating_data = item_indexer.fit(rating_data).transform(rating_data)\n",
    "    \n",
    "    # Use lower rank and fewer iterations\n",
    "    als = ALS(\n",
    "        maxIter=5,\n",
    "        regParam=0.1,\n",
    "        rank=10,\n",
    "        userCol=\"user_index\",\n",
    "        itemCol=\"item_index\",\n",
    "        ratingCol=\"rating\",\n",
    "        coldStartStrategy=\"drop\",\n",
    "        nonnegative=True,\n",
    "        implicitPrefs=False\n",
    "    )\n",
    "    \n",
    "    # Set checkpoint directory to help with memory issues\n",
    "    sc = spark.sparkContext\n",
    "    sc.setCheckpointDir(\"/tmp/checkpoint\")\n",
    "    \n",
    "    # Train model with checkpointing\n",
    "    rating_data.checkpoint()\n",
    "    als_model = als.fit(rating_data)\n",
    "    \n",
    "    # 6. Generate recommendations - get top 5 instead of 10\n",
    "    user_recs = als_model.recommendForAllUsers(5)\n",
    "    \n",
    "    return als_model, user_recs"
   ]
  },
  {
   "cell_type": "code",
   "execution_count": 15,
   "id": "3c9413e7",
   "metadata": {},
   "outputs": [
    {
     "name": "stdout",
     "output_type": "stream",
     "text": [
      "+----------+----------+----------------+\n",
      "|user_index|item_index|predicted_rating|\n",
      "+----------+----------+----------------+\n",
      "|         1|       483|        6.103487|\n",
      "|         1|       846|       5.8908634|\n",
      "|         1|      5672|        5.872067|\n",
      "|         1|      4635|        5.872067|\n",
      "|         1|      4594|        5.872067|\n",
      "+----------+----------+----------------+\n",
      "only showing top 5 rows\n",
      "\n",
      "Model completed successfully!\n"
     ]
    }
   ],
   "source": [
    "# Run the simplified model\n",
    "try:\n",
    "    als_model, user_recs = build_hybrid_recommender(user_reviews, metadata, sample_size=10000)\n",
    "    \n",
    "    # Show top recommendations\n",
    "    user_recs_exploded = user_recs.withColumn(\"recommendations\", explode(\"recommendations\"))\n",
    "    recommendations_df = user_recs_exploded.select(\n",
    "        col(\"user_index\"),\n",
    "        col(\"recommendations.item_index\").alias(\"item_index\"),\n",
    "        col(\"recommendations.rating\").alias(\"predicted_rating\")\n",
    "    )\n",
    "    \n",
    "    # Display results\n",
    "    recommendations_df.show(5)\n",
    "    \n",
    "    print(\"Model completed successfully!\")\n",
    "except Exception as e:\n",
    "    print(f\"Error: {e}\")\n",
    "    \n",
    "    # Offer diagnostic information\n",
    "    print(\"\\nDiagnostic Information:\")\n",
    "    print(\"1. Check your system resources (try running 'free -h' in terminal)\")\n",
    "    print(\"2. Spark UI should be available at http://localhost:4040 for debugging\")\n",
    "    print(\"3. Try reducing sample_size further if still encountering issues\")"
   ]
  }
 ],
 "metadata": {
  "kernelspec": {
   "display_name": "Python 3",
   "language": "python",
   "name": "python3"
  },
  "language_info": {
   "codemirror_mode": {
    "name": "ipython",
    "version": 3
   },
   "file_extension": ".py",
   "mimetype": "text/x-python",
   "name": "python",
   "nbconvert_exporter": "python",
   "pygments_lexer": "ipython3",
   "version": "3.10.11"
  }
 },
 "nbformat": 4,
 "nbformat_minor": 5
}
