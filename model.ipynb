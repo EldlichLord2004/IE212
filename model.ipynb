{
 "cells": [
  {
   "cell_type": "code",
   "execution_count": 1,
   "id": "1414be41",
   "metadata": {},
   "outputs": [],
   "source": [
    "import json\n",
    "import pandas as pd\n",
    "import findspark\n",
    "findspark.init()\n",
    "\n",
    "from pyspark.sql import SparkSession\n",
    "from pyspark.sql.functions import col, split, explode\n",
    "\n",
    "\n",
    "spark = SparkSession.builder.appName(\"ProcessingDataset\")\\\n",
    "    .config(\"spark.kryoserializer.buffer.max\", \"512m\") \\\n",
    "    .getOrCreate()\n",
    "spark.conf.set('spark.sql.caseSensitive', True)"
   ]
  },
  {
   "cell_type": "code",
   "execution_count": 2,
   "id": "d57dee29",
   "metadata": {},
   "outputs": [],
   "source": [
    "user_reviews= spark.read.parquet(\"Dataset/user_reviews.parquet\")"
   ]
  },
  {
   "cell_type": "code",
   "execution_count": 3,
   "id": "75ca11e2",
   "metadata": {},
   "outputs": [
    {
     "name": "stdout",
     "output_type": "stream",
     "text": [
      "+------------+--------------------------------------------------------+------+------------+----------------------------+----------+-----------+--------------------------------------------------------------------------------------------------------------------------------------------------------------------------------------------------------------------------------------------------------------------------------------------------------------------------------------------------------------------------------------------------------------------------------------------------------------------------------------------------------------------------------------------------------------------------------------------------------------------------------------------------------------------------------------------------------------------------------------------------------------------------------------------------------+-----------+------------+-----------------+-------------------+\n",
      "|review_id   |title                                                   |rating|rating_label|user_id                     |asin      |parent_asin|text                                                                                                                                                                                                                                                                                                                                                                                                                                                                                                                                                                                                                                                                                                                                                                                                    |text_length|helpful_vote|verified_purchase|datetime           |\n",
      "+------------+--------------------------------------------------------+------+------------+----------------------------+----------+-----------+--------------------------------------------------------------------------------------------------------------------------------------------------------------------------------------------------------------------------------------------------------------------------------------------------------------------------------------------------------------------------------------------------------------------------------------------------------------------------------------------------------------------------------------------------------------------------------------------------------------------------------------------------------------------------------------------------------------------------------------------------------------------------------------------------------+-----------+------------+-----------------+-------------------+\n",
      "|103079215104|Great game for those wanting historical info of Templars|5.0   |positive    |AHP4ABT4AOUOKHKXCUT3JCFU623A|B004H0J5QY|B004HD55V0 |Great game for those wanting to play historical period,no trolls ,dragons or wizzards,just plain medevil combat,with tasks for two Templar knights to perform to find the Holly-Grail ,I will not give out the plot since it has twists that are unexpected,but well worth the time to play ,will gain insight in to the Templars' history  ,The game is very easy to install since it is windows based and has great graphics,plus un-like other single shooter games you can switch between the two templars you want to play,Shame there is not a Templar II to countine the story line,but you will find many twists and turns in this game,unexpected,the story-line is well written,like an inter-active book Warning its hard to stop playing once you start the ,game time about 9 hours of play|776        |0           |true             |2014-04-21 00:58:24|\n",
      "|103079215105|Great value,for the amount of game that you get         |5.0   |positive    |AHP4ABT4AOUOKHKXCUT3JCFU623A|B00AR5BNYU|B00AR5BNYU |Great graphics,no problems with running the game,installs very easy,and can be up and playing in no time,You build yourself up in status,and gain favor of the king of your clan,thur warfare and favors which gives you more villages,giving you more wealth to buy better weapons and armor,and stepping up to marry,giving you a title and a path to the throne,so you have alot to keep you interested in going forward after each chapter is completed,the goal of the game is to become king,                                                                                                                                                                                                                                                                                                     |483        |1           |false            |2013-06-01 08:08:41|\n",
      "|103079215106|Do not waste the money or effort                        |1.0   |negative    |AHP4ABT4AOUOKHKXCUT3JCFU623A|B003MQMPD4|B003NE6BQW |I wish I could give a review of this game,nothing but muti= crashes,tried everything,updates,computer hardware checks,this is the only game that I have  this problem on my system,Do not waste the money or effort,there is no fix for the problem,do not fall for all you have to do is run an update,                                                                                                                                                                                                                                                                                                                                                                                                                                                                                                |296        |4           |true             |2012-01-19 09:11:03|\n",
      "|103079215107|If looking for a good WWI game this is it               |4.0   |positive    |AHP4ABT4AOUOKHKXCUT3JCFU623A|B003L77ZHK|B003L77ZHK |I have been looking for a good WWI game for a long time,this game is one of the best that I have found,very good 3D graphics,It is on the same game platform as CDV Blitzkrieg WWII games,Only draw back, slow controls,You have so many units in one game to control,at times its like herding cats,but in all its a good game to spend a day playing,for $9.99.as for the crash problems others had stated,I have had no problems                                                                                                                                                                                                                                                                                                                                                                     |419        |3           |true             |2012-01-14 07:48:46|\n",
      "|103079215108|Just what I needed                                      |5.0   |positive    |AEHINTI4PJFF3EQ7OL3Q2C3NYP7Q|B07TL5TKG9|B07WRDYD2N |Fit perfectly with my color theme of my Mac, and is very responsive.                                                                                                                                                                                                                                                                                                                                                                                                                                                                                                                                                                                                                                                                                                                                    |68         |0           |true             |2021-02-01 02:31:31|\n",
      "+------------+--------------------------------------------------------+------+------------+----------------------------+----------+-----------+--------------------------------------------------------------------------------------------------------------------------------------------------------------------------------------------------------------------------------------------------------------------------------------------------------------------------------------------------------------------------------------------------------------------------------------------------------------------------------------------------------------------------------------------------------------------------------------------------------------------------------------------------------------------------------------------------------------------------------------------------------------------------------------------------------+-----------+------------+-----------------+-------------------+\n",
      "only showing top 5 rows\n",
      "\n"
     ]
    }
   ],
   "source": [
    "user_reviews.show(5, False)"
   ]
  },
  {
   "cell_type": "code",
   "execution_count": 4,
   "id": "724e0488",
   "metadata": {},
   "outputs": [],
   "source": [
    "user_reviews_demo = user_reviews.limit(100000)"
   ]
  },
  {
   "cell_type": "code",
   "execution_count": 5,
   "id": "0bd97388",
   "metadata": {},
   "outputs": [
    {
     "name": "stdout",
     "output_type": "stream",
     "text": [
      "+------------+--------------------------------------------------------+------+------------+----------------------------+----------+-----------+--------------------------------------------------------------------------------------------------------------------------------------------------------------------------------------------------------------------------------------------------------------------------------------------------------------------------------------------------------------------------------------------------------------------------------------------------------------------------------------------------------------------------------------------------------------------------------------------------------------------------------------------------------------------------------------------------------------------------------------------------------------------------------------------------------+-----------+------------+-----------------+-------------------+\n",
      "|review_id   |title                                                   |rating|rating_label|user_id                     |asin      |parent_asin|text                                                                                                                                                                                                                                                                                                                                                                                                                                                                                                                                                                                                                                                                                                                                                                                                    |text_length|helpful_vote|verified_purchase|datetime           |\n",
      "+------------+--------------------------------------------------------+------+------------+----------------------------+----------+-----------+--------------------------------------------------------------------------------------------------------------------------------------------------------------------------------------------------------------------------------------------------------------------------------------------------------------------------------------------------------------------------------------------------------------------------------------------------------------------------------------------------------------------------------------------------------------------------------------------------------------------------------------------------------------------------------------------------------------------------------------------------------------------------------------------------------+-----------+------------+-----------------+-------------------+\n",
      "|103079215104|Great game for those wanting historical info of Templars|5.0   |positive    |AHP4ABT4AOUOKHKXCUT3JCFU623A|B004H0J5QY|B004HD55V0 |Great game for those wanting to play historical period,no trolls ,dragons or wizzards,just plain medevil combat,with tasks for two Templar knights to perform to find the Holly-Grail ,I will not give out the plot since it has twists that are unexpected,but well worth the time to play ,will gain insight in to the Templars' history  ,The game is very easy to install since it is windows based and has great graphics,plus un-like other single shooter games you can switch between the two templars you want to play,Shame there is not a Templar II to countine the story line,but you will find many twists and turns in this game,unexpected,the story-line is well written,like an inter-active book Warning its hard to stop playing once you start the ,game time about 9 hours of play|776        |0           |true             |2014-04-21 00:58:24|\n",
      "|103079215105|Great value,for the amount of game that you get         |5.0   |positive    |AHP4ABT4AOUOKHKXCUT3JCFU623A|B00AR5BNYU|B00AR5BNYU |Great graphics,no problems with running the game,installs very easy,and can be up and playing in no time,You build yourself up in status,and gain favor of the king of your clan,thur warfare and favors which gives you more villages,giving you more wealth to buy better weapons and armor,and stepping up to marry,giving you a title and a path to the throne,so you have alot to keep you interested in going forward after each chapter is completed,the goal of the game is to become king,                                                                                                                                                                                                                                                                                                     |483        |1           |false            |2013-06-01 08:08:41|\n",
      "|103079215106|Do not waste the money or effort                        |1.0   |negative    |AHP4ABT4AOUOKHKXCUT3JCFU623A|B003MQMPD4|B003NE6BQW |I wish I could give a review of this game,nothing but muti= crashes,tried everything,updates,computer hardware checks,this is the only game that I have  this problem on my system,Do not waste the money or effort,there is no fix for the problem,do not fall for all you have to do is run an update,                                                                                                                                                                                                                                                                                                                                                                                                                                                                                                |296        |4           |true             |2012-01-19 09:11:03|\n",
      "|103079215107|If looking for a good WWI game this is it               |4.0   |positive    |AHP4ABT4AOUOKHKXCUT3JCFU623A|B003L77ZHK|B003L77ZHK |I have been looking for a good WWI game for a long time,this game is one of the best that I have found,very good 3D graphics,It is on the same game platform as CDV Blitzkrieg WWII games,Only draw back, slow controls,You have so many units in one game to control,at times its like herding cats,but in all its a good game to spend a day playing,for $9.99.as for the crash problems others had stated,I have had no problems                                                                                                                                                                                                                                                                                                                                                                     |419        |3           |true             |2012-01-14 07:48:46|\n",
      "|103079215108|Just what I needed                                      |5.0   |positive    |AEHINTI4PJFF3EQ7OL3Q2C3NYP7Q|B07TL5TKG9|B07WRDYD2N |Fit perfectly with my color theme of my Mac, and is very responsive.                                                                                                                                                                                                                                                                                                                                                                                                                                                                                                                                                                                                                                                                                                                                    |68         |0           |true             |2021-02-01 02:31:31|\n",
      "+------------+--------------------------------------------------------+------+------------+----------------------------+----------+-----------+--------------------------------------------------------------------------------------------------------------------------------------------------------------------------------------------------------------------------------------------------------------------------------------------------------------------------------------------------------------------------------------------------------------------------------------------------------------------------------------------------------------------------------------------------------------------------------------------------------------------------------------------------------------------------------------------------------------------------------------------------------------------------------------------------------+-----------+------------+-----------------+-------------------+\n",
      "only showing top 5 rows\n",
      "\n"
     ]
    }
   ],
   "source": [
    "user_reviews_demo.show(5, False)"
   ]
  },
  {
   "cell_type": "code",
   "execution_count": 6,
   "id": "d90914fd",
   "metadata": {},
   "outputs": [
    {
     "name": "stdout",
     "output_type": "stream",
     "text": [
      "+-----------+--------------------------------------------------------------------------------------------------------------------------------------------------------------------------------------------------------+--------------+-------------+-------------------------+-------------------------------------------------------------------+-----+-----------+\n",
      "|parent_asin|title                                                                                                                                                                                                   |average_rating|rating_number|main_category            |categories                                                         |price|store      |\n",
      "+-----------+--------------------------------------------------------------------------------------------------------------------------------------------------------------------------------------------------------+--------------+-------------+-------------------------+-------------------------------------------------------------------+-----+-----------+\n",
      "|B08PNXK9RG |MASiKEN Head Strap for VR Oculus Quest 2, Accessories Head Strap fit Oculus 2 Official Carrying Case, Adjustable Headband Relieve Face Squeeze, Enhanced Support and Comfortable Touch (White, K3 Small)|4.4           |154          |Cell Phones & Accessories|[Video Games, PC, Virtual Reality, Headsets]                       |NULL |MASiKEN    |\n",
      "|B0B7P1DDFJ |Wireless Mouse, 2.4G Wireless Ergonomic Gaming Optical Mouse with 3 Adjustable DPI 800/1200 /1600, Portable Slim Silent USB Cordless Computer Mice for Desktop, Notebook, MacBook, Chromebook, PC(Pink) |1.0           |1            |All Electronics          |[Video Games, PC, Accessories, Gaming Mice]                        |NULL |Gabongcui  |\n",
      "|B011AUYCNY |LEGO Jurassic World for Xbox One                                                                                                                                                                        |4.7           |407          |Video Games              |[Video Games, Xbox One, Games]                                     |20.95|WARNER BROS|\n",
      "|B00006ANZ2 |Worms Triple Pack - PC                                                                                                                                                                                  |3.1           |15           |Video Games              |[Video Games, PC, Games]                                           |50.0 |Ubisoft    |\n",
      "|B01J4K4OBM |Fire Emblem Fates: Conquest - Nintendo 3DS by Nintendo                                                                                                                                                  |5.0           |7            |Video Games              |[Video Games, Legacy Systems, Nintendo Systems, Nintendo 3DS & 2DS]|62.99|Nintendo   |\n",
      "+-----------+--------------------------------------------------------------------------------------------------------------------------------------------------------------------------------------------------------+--------------+-------------+-------------------------+-------------------------------------------------------------------+-----+-----------+\n",
      "only showing top 5 rows\n",
      "\n"
     ]
    }
   ],
   "source": [
    "metadata=spark.read.parquet(\"Dataset/metadata.parquet\")\n",
    "metadata.show(5, False)"
   ]
  },
  {
   "cell_type": "code",
   "execution_count": 7,
   "id": "a2a156d9",
   "metadata": {},
   "outputs": [],
   "source": [
    "full_data = user_reviews_demo.join(metadata, user_reviews_demo.parent_asin == metadata.parent_asin, \"inner\")"
   ]
  },
  {
   "cell_type": "code",
   "execution_count": 8,
   "id": "a57dfa80",
   "metadata": {},
   "outputs": [
    {
     "name": "stdout",
     "output_type": "stream",
     "text": [
      "+------------+------------------------------------------------------------------------------------------------------------------------------+------+--------------+-------------+----------+-----------+----------------------------+------------+------------------------------------------------------------+\n",
      "|review_id   |title                                                                                                                         |rating|average_rating|rating_number|asin      |parent_asin|user_id                     |helpful_vote|categories                                                  |\n",
      "+------------+------------------------------------------------------------------------------------------------------------------------------+------+--------------+-------------+----------+-----------+----------------------------+------------+------------------------------------------------------------+\n",
      "|103079215104|The First Templar - Xbox 360                                                                                                  |5.0   |4.4           |155          |B004H0J5QY|B004HD55V0 |AHP4ABT4AOUOKHKXCUT3JCFU623A|0           |[Video Games, Legacy Systems, Xbox Systems, Xbox 360, Games]|\n",
      "|103079215105|Mount & Blade: Warband Demo [Download]                                                                                        |5.0   |3.7           |31           |B00AR5BNYU|B00AR5BNYU |AHP4ABT4AOUOKHKXCUT3JCFU623A|1           |[Video Games, PC, Games]                                    |\n",
      "|103079215106|Europa Universalis Rome Gold [Download]                                                                                       |1.0   |3.0           |41           |B003MQMPD4|B003NE6BQW |AHP4ABT4AOUOKHKXCUT3JCFU623A|4           |[Video Games, PC, Games]                                    |\n",
      "|103079215107|World War 1 [Download]                                                                                                        |4.0   |3.1           |14           |B003L77ZHK|B003L77ZHK |AHP4ABT4AOUOKHKXCUT3JCFU623A|3           |[Video Games, PC, Games]                                    |\n",
      "|103079215108|Corsair M55 RGB Pro Wired Ambidextrous Multi-Grip Gaming Mouse - 12,400 DPI Adjustable Sensor - 8 Programmable Buttons - Black|5.0   |4.6           |1702         |B07TL5TKG9|B07WRDYD2N |AEHINTI4PJFF3EQ7OL3Q2C3NYP7Q|0           |[Video Games, PC, Accessories, Gaming Mice]                 |\n",
      "+------------+------------------------------------------------------------------------------------------------------------------------------+------+--------------+-------------+----------+-----------+----------------------------+------------+------------------------------------------------------------+\n",
      "only showing top 5 rows\n",
      "\n"
     ]
    }
   ],
   "source": [
    "full_data_filter = full_data.select(\n",
    "\t\"review_id\",\n",
    "\tmetadata[\"title\"].alias(\"title\"),\n",
    "\t\"rating\",\n",
    "\t\"average_rating\",\n",
    "\t\"rating_number\",\n",
    "\tuser_reviews_demo[\"asin\"].alias(\"asin\"),\n",
    "\tmetadata[\"parent_asin\"].alias(\"parent_asin\"),\n",
    "\t\"user_id\",\n",
    "\t\"helpful_vote\",\n",
    "\t\"categories\"\n",
    ")\n",
    "full_data_filter.show(5, False)"
   ]
  },
  {
   "cell_type": "code",
   "execution_count": 9,
   "id": "2937482a",
   "metadata": {},
   "outputs": [
    {
     "name": "stdout",
     "output_type": "stream",
     "text": [
      "root\n",
      " |-- review_id: long (nullable = true)\n",
      " |-- title: string (nullable = true)\n",
      " |-- rating: double (nullable = true)\n",
      " |-- average_rating: double (nullable = true)\n",
      " |-- rating_number: long (nullable = true)\n",
      " |-- asin: string (nullable = true)\n",
      " |-- parent_asin: string (nullable = true)\n",
      " |-- user_id: string (nullable = true)\n",
      " |-- helpful_vote: long (nullable = true)\n",
      " |-- categories: array (nullable = true)\n",
      " |    |-- element: string (containsNull = true)\n",
      "\n"
     ]
    }
   ],
   "source": [
    "full_data_filter.printSchema()"
   ]
  },
  {
   "cell_type": "markdown",
   "id": "e6a21c24",
   "metadata": {},
   "source": [
    "## Simple recommendation model\n"
   ]
  },
  {
   "cell_type": "code",
   "execution_count": 10,
   "id": "96535b24",
   "metadata": {},
   "outputs": [],
   "source": [
    "from pyspark.ml.recommendation import ALS\n",
    "from pyspark.ml.evaluation import RegressionEvaluator"
   ]
  },
  {
   "cell_type": "code",
   "execution_count": 11,
   "id": "c950fc57",
   "metadata": {},
   "outputs": [],
   "source": [
    "from pyspark.sql.functions import col, explode, array_join\n",
    "\n",
    "# Giữ lại các cột cần thiết\n",
    "ratings_df = full_data_filter.select(\n",
    "    col(\"user_id\"),\n",
    "    col(\"asin\").alias(\"item_id\"),\n",
    "    col(\"rating\")\n",
    ").dropna()\n",
    "\n",
    "# Tạo bảng sản phẩm chứa thông tin nội dung\n",
    "products_df = full_data_filter.select(\n",
    "    col(\"asin\").alias(\"item_id\"),\n",
    "    col(\"title\"),\n",
    "    col(\"categories\")\n",
    ").dropDuplicates([\"item_id\"])"
   ]
  },
  {
   "cell_type": "code",
   "execution_count": 12,
   "id": "78d16fbf",
   "metadata": {},
   "outputs": [],
   "source": [
    "from pyspark.ml.feature import StringIndexer\n",
    "\n",
    "user_indexer = StringIndexer(inputCol=\"user_id\", outputCol=\"user_id_index\", handleInvalid=\"keep\")\n",
    "item_indexer = StringIndexer(inputCol=\"item_id\", outputCol=\"item_id_index\", handleInvalid=\"keep\")\n",
    "\n",
    "indexed_ratings = user_indexer.fit(ratings_df).transform(ratings_df)\n",
    "indexed_ratings = item_indexer.fit(indexed_ratings).transform(indexed_ratings)"
   ]
  },
  {
   "cell_type": "code",
   "execution_count": 13,
   "id": "93434937",
   "metadata": {},
   "outputs": [],
   "source": [
    "from pyspark.ml.recommendation import ALS\n",
    "\n",
    "als = ALS(\n",
    "    maxIter=10,\n",
    "    regParam=0.1,\n",
    "    rank=10,\n",
    "    userCol=\"user_id_index\",\n",
    "    itemCol=\"item_id_index\",\n",
    "    ratingCol=\"rating\",\n",
    "    coldStartStrategy=\"drop\",\n",
    "    nonnegative=True\n",
    ")\n",
    "\n",
    "model_als = als.fit(indexed_ratings)"
   ]
  },
  {
   "cell_type": "code",
   "execution_count": 14,
   "id": "0fb5a07f",
   "metadata": {},
   "outputs": [],
   "source": [
    "from pyspark.sql.functions import explode, when\n",
    "\n",
    "userRecs = model_als.recommendForAllUsers(10)  # gợi ý top 10 sản phẩm mỗi người dùng\n",
    "userRecs_exploded = userRecs.withColumn(\"recommendations\", explode(\"recommendations\"))\n",
    "\n",
    "final_recommendations = userRecs_exploded.select(\n",
    "    col(\"user_id_index\"),\n",
    "    col(\"recommendations\")[\"item_id_index\"].alias(\"item_id_index\"),\n",
    "    col(\"recommendations\")[\"rating\"].alias(\"predicted_rating\")\n",
    ").withColumn(\n",
    "    \"predicted_rating\",\n",
    "   col(\"predicted_rating\")\n",
    ")"
   ]
  },
  {
   "cell_type": "code",
   "execution_count": 18,
   "id": "28f304f8",
   "metadata": {},
   "outputs": [
    {
     "name": "stdout",
     "output_type": "stream",
     "text": [
      "+----------+-----------------------------------------------------------------------------------------------------------------------------------------------------------------------------------------------------------------------------------------------------+---------------------------------------------------------------------------------------------------------------------------------------+\n",
      "|item_id   |features_text                                                                                                                                                                                                                                        |features                                                                                                                               |\n",
      "+----------+-----------------------------------------------------------------------------------------------------------------------------------------------------------------------------------------------------------------------------------------------------+---------------------------------------------------------------------------------------------------------------------------------------+\n",
      "|0063052164|[Stranger, Planet, AUTOGRAPHED, /, SIGNED, BOOK, Video, Games, PlayStation, 4]                                                                                                                                                                       |(1000,[0,1,8,16,91],[1.0,1.0,1.0,1.0,1.0])                                                                                             |\n",
      "|0152049495|[Dogzilla, Video, Games, Legacy, Systems, Nintendo, Systems]                                                                                                                                                                                         |(1000,[0,1,2,3,9],[1.0,1.0,2.0,1.0,1.0])                                                                                               |\n",
      "|0375869026|[Wonder, Video, Games, PC, Games]                                                                                                                                                                                                                    |(1000,[0,1,10],[2.0,1.0,1.0])                                                                                                          |\n",
      "|0385522045|[Outcasts, United:, An, American, Town,, a, Refugee, Team,, and, One, Woman's, Quest, to, Make, a, Difference, Video, Games, PC, Games]                                                                                                              |(1000,[0,1,10,17,18,75,114,499],[2.0,1.0,1.0,1.0,1.0,1.0,1.0,2.0])                                                                     |\n",
      "|0399218858|[The, Very, Quiet, Cricket, (Avenues), Video, Games, PC, Games]                                                                                                                                                                                      |(1000,[0,1,10,34,672],[2.0,1.0,1.0,1.0,1.0])                                                                                           |\n",
      "|0538966610|[Activision, Skylanders, Giants, Single, Character, Pack, -, Molten, Hot, Dog]                                                                                                                                                                       |(1000,[4,53,232,349,455],[1.0,1.0,1.0,1.0,1.0])                                                                                        |\n",
      "|0620201444|[Come, Out, of, Her, My, People]                                                                                                                                                                                                                     |(1000,[29,911],[1.0,1.0])                                                                                                              |\n",
      "|0692681663|[The, History, of, Rome:, The, Republic]                                                                                                                                                                                                             |(1000,[29,34],[1.0,2.0])                                                                                                               |\n",
      "|0700026657|[Anno, 2070, Video, Games, PC, Games]                                                                                                                                                                                                                |(1000,[0,1,10],[2.0,1.0,1.0])                                                                                                          |\n",
      "|0761174427|[Unlikely, Loves:, 43, Heartwarming, True, Stories, from, the, Animal, Kingdom, (Unlikely, Friendships), Video, Games, Legacy, Systems, Nintendo, Systems]                                                                                           |(1000,[0,1,2,3,9,71,438,794,837,956],[1.0,1.0,2.0,1.0,1.0,1.0,1.0,1.0,1.0,1.0])                                                        |\n",
      "|0983196354|[THE, MVP, (galactic, football, league:, book, four)]                                                                                                                                                                                                |(1000,[],[])                                                                                                                           |\n",
      "|098983641X|[Addicts, and, Millionaires, Video, Games, PlayStation, 4]                                                                                                                                                                                           |(1000,[0,1,8,16,18],[1.0,1.0,1.0,1.0,1.0])                                                                                             |\n",
      "|1575950715|[ZAERO, -, Mission, Pack, for, Quake, II]                                                                                                                                                                                                            |(1000,[4,7,53,283],[1.0,1.0,1.0,1.0])                                                                                                  |\n",
      "|1589944607|[Battlestar, Galactica, Video, Games, Legacy, Systems, PlayStation, Systems, PlayStation, 2, Games]                                                                                                                                                  |(1000,[0,1,2,8,9,21],[2.0,1.0,2.0,2.0,1.0,1.0])                                                                                        |\n",
      "|1616611715|[Hey,, That's, My, Fish, Video, Games, PC, Games]                                                                                                                                                                                                    |(1000,[0,1,10,911],[2.0,1.0,1.0,1.0])                                                                                                  |\n",
      "|1616615990|[Android, Netrunner, LCG:, Future, Proof, Data, Pack, Video, Games, Legacy, Systems]                                                                                                                                                                 |(1000,[0,1,2,9,53,234,534],[1.0,1.0,1.0,1.0,1.0,1.0,1.0])                                                                              |\n",
      "|161661997X|[Fantasy, Flight, Games, Star, Wars, Armada, Assault, Frigate, Mark, II, EXPANSION, PACK, |, Miniatures, Battle, Game, |, Strategy, Game, for, Adults, and, Teens, |, Ages, 14+, |, 2, Players, |, Avg., Playtime, 2, Hours, Video, Games, PC, Games]|(1000,[0,1,7,10,18,19,21,76,209,274,283,352,368,464,873,926,977],[3.0,1.0,1.0,1.0,1.0,2.0,2.0,5.0,1.0,1.0,1.0,1.0,1.0,1.0,1.0,1.0,1.0])|\n",
      "|1617683175|[Adventure, Time:, Card, Wars:, Finn, vs., Jake, Video, Games, Legacy, Systems, Nintendo, Systems, Nintendo, DS, Games]                                                                                                                              |(1000,[0,1,2,3,9,44,118,426,711,766],[2.0,1.0,2.0,2.0,1.0,1.0,1.0,1.0,1.0,1.0])                                                        |\n",
      "|1618945157|[Trainz:, A, New, Era, Video, Games, PC, Games]                                                                                                                                                                                                      |(1000,[0,1,10,127,328],[2.0,1.0,1.0,1.0,1.0])                                                                                          |\n",
      "|1633441210|[Fantasy, Flight, Games, Star, Wars, Armada, Assault, Frigate, Mark, II, EXPANSION, PACK, |, Miniatures, Battle, Game, |, Strategy, Game, for, Adults, and, Teens, |, Ages, 14+, |, 2, Players, |, Avg., Playtime, 2, Hours, Video, Games, PC, Games]|(1000,[0,1,7,10,18,19,21,76,209,274,283,352,368,464,873,926,977],[3.0,1.0,1.0,1.0,1.0,2.0,2.0,5.0,1.0,1.0,1.0,1.0,1.0,1.0,1.0,1.0,1.0])|\n",
      "+----------+-----------------------------------------------------------------------------------------------------------------------------------------------------------------------------------------------------------------------------------------------------+---------------------------------------------------------------------------------------------------------------------------------------+\n",
      "only showing top 20 rows\n",
      "\n"
     ]
    }
   ],
   "source": [
    "from pyspark.sql.functions import col, concat_ws, split\n",
    "from pyspark.ml.feature import CountVectorizer\n",
    "\n",
    "# 1. Kết hợp title và categories thành một chuỗi\n",
    "# Chuyển categories từ chuỗi sang mảng, rồi kết hợp với title\n",
    "products_df = products_df.withColumn(\n",
    "    \"features_text\",\n",
    "    concat_ws(\" \", col(\"title\"), col(\"categories\"))\n",
    ")\n",
    "\n",
    "# Ví dụ: \"PlayStation 5 Console Video Games, PlayStation 4\"\n",
    "\n",
    "# 2. Chuyển chuỗi features_text thành mảng từ (array<string>)\n",
    "# Split chuỗi thành mảng từ\n",
    "products_df = products_df.withColumn(\n",
    "    \"features_text\",\n",
    "    split(col(\"features_text\"), \" \")\n",
    ")\n",
    "\n",
    "# 3. Vector hóa bằng CountVectorizer\n",
    "cv = CountVectorizer(inputCol=\"features_text\", outputCol=\"features\", vocabSize=1000, minDF=2.0)\n",
    "cv_model = cv.fit(products_df)\n",
    "content_features_df = cv_model.transform(products_df)\n",
    "\n",
    "# Hiển thị kết quả\n",
    "content_features_df.select(\"item_id\", \"features_text\", \"features\").show(truncate=False)"
   ]
  },
  {
   "cell_type": "code",
   "execution_count": 16,
   "id": "8dee08bd",
   "metadata": {},
   "outputs": [
    {
     "name": "stdout",
     "output_type": "stream",
     "text": [
      "+----------+---------------------------------------------------------------------------------------------+-----------------------------------------------+---------------------------------------------------------------------------------------------------------------------------------------+------------------------------------------------------------------+\n",
      "|item_id   |title                                                                                        |categories                                     |features_text                                                                                                                          |features                                                          |\n",
      "+----------+---------------------------------------------------------------------------------------------+-----------------------------------------------+---------------------------------------------------------------------------------------------------------------------------------------+------------------------------------------------------------------+\n",
      "|0063052164|Stranger Planet AUTOGRAPHED / SIGNED BOOK                                                    |[Video Games, PlayStation 4]                   |[Stranger, Planet, AUTOGRAPHED, /, SIGNED, BOOK, Video, Games, PlayStation, 4]                                                         |(1000,[0,1,8,16,92],[1.0,1.0,1.0,1.0,1.0])                        |\n",
      "|0152049495|Dogzilla                                                                                     |[Video Games, Legacy Systems, Nintendo Systems]|[Dogzilla, Video, Games, Legacy, Systems, Nintendo, Systems]                                                                           |(1000,[0,1,2,3,9],[1.0,1.0,2.0,1.0,1.0])                          |\n",
      "|0375869026|Wonder                                                                                       |[Video Games, PC, Games]                       |[Wonder, Video, Games, PC, Games]                                                                                                      |(1000,[0,1,10],[2.0,1.0,1.0])                                     |\n",
      "|0385522045|Outcasts United: An American Town, a Refugee Team, and One Woman's Quest to Make a Difference|[Video Games, PC, Games]                       |[Outcasts, United:, An, American, Town,, a, Refugee, Team,, and, One, Woman's, Quest, to, Make, a, Difference, Video, Games, PC, Games]|(1000,[0,1,10,17,18,76,115,500],[2.0,1.0,1.0,1.0,1.0,1.0,1.0,2.0])|\n",
      "|0399218858|The Very Quiet Cricket (Avenues)                                                             |[Video Games, PC, Games]                       |[The, Very, Quiet, Cricket, (Avenues), Video, Games, PC, Games]                                                                        |(1000,[0,1,10,34,673],[2.0,1.0,1.0,1.0,1.0])                      |\n",
      "+----------+---------------------------------------------------------------------------------------------+-----------------------------------------------+---------------------------------------------------------------------------------------------------------------------------------------+------------------------------------------------------------------+\n",
      "only showing top 5 rows\n",
      "\n"
     ]
    }
   ],
   "source": [
    "content_features_df.show(5, False)"
   ]
  },
  {
   "cell_type": "code",
   "execution_count": 17,
   "id": "7c99511e",
   "metadata": {},
   "outputs": [],
   "source": [
    "# from pyspark.sql.functions import col, lit\n",
    "# from pyspark.sql.functions import udf\n",
    "# from pyspark.sql.types import FloatType\n",
    "# from pyspark.ml.linalg import Vector\n",
    "# import numpy as np\n",
    "\n",
    "# # 1. Hàm tính Cosine Similarity giữ nguyên\n",
    "# def cosine_similarity(vec1: Vector, vec2: Vector) -> float:\n",
    "#     a = np.array(vec1.toArray())\n",
    "#     b = np.array(vec2.toArray())\n",
    "#     return float(np.dot(a, b) / (np.linalg.norm(a) * np.linalg.norm(b)))\n",
    "\n",
    "# cos_sim_udf = udf(cosine_similarity, FloatType())\n",
    "\n",
    "# # 2. Đặt alias cho bảng gốc và bảng crossJoin\n",
    "# content_features_df = content_features_df.alias(\"left\")  # đặt alias cho bảng gốc\n",
    "\n",
    "# # Tạo Cartesian Product giữa bảng \"left\" và chính nó với alias \"right\"\n",
    "# all_pairs = content_features_df.crossJoin(\n",
    "#     content_features_df.alias(\"right\")\n",
    "# )\n",
    "\n",
    "# # 3. Tính Cosine Similarity giữa từng cặp sản phẩm\n",
    "# similarities_df = all_pairs.select(\n",
    "#     col(\"left.item_id\").alias(\"item_id_1\"),\n",
    "#     col(\"right.item_id\").alias(\"item_id_2\"),\n",
    "#     cos_sim_udf(col(\"left.features\"), col(\"right.features\")).alias(\"similarity\")\n",
    "# ).filter(\n",
    "#     col(\"item_id_1\") != col(\"item_id_2\")  # loại bỏ so sánh cùng một sản phẩm\n",
    "# )\n",
    "\n",
    "# # 4. Hiển thị kết quả\n",
    "# similarities_df.orderBy(col(\"similarity\").desc()).show(10)"
   ]
  }
 ],
 "metadata": {
  "kernelspec": {
   "display_name": "Python 3",
   "language": "python",
   "name": "python3"
  },
  "language_info": {
   "codemirror_mode": {
    "name": "ipython",
    "version": 3
   },
   "file_extension": ".py",
   "mimetype": "text/x-python",
   "name": "python",
   "nbconvert_exporter": "python",
   "pygments_lexer": "ipython3",
   "version": "3.10.11"
  }
 },
 "nbformat": 4,
 "nbformat_minor": 5
}
